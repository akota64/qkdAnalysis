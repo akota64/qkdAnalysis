{
 "cells": [
  {
   "cell_type": "markdown",
   "id": "inappropriate-wiring",
   "metadata": {},
   "source": [
    "# Quantum Key Distribution Protocol"
   ]
  },
  {
   "cell_type": "markdown",
   "id": "closing-dominant",
   "metadata": {},
   "source": [
    "## 0. Introduction\n",
    "With our growing reliance on the Internet and long-distance electronic communications, a need for secure communication methods and channels has also arisen. Over the years, people have attempted to tackle this challenge via classical means, and to great success. Methods of public-key cryptography (such as RSA) and symmetric-key cryptography (such as DES and AES) have become very popular to protect communications against hackers and interceptors [3]. For the most part, these have been very effective, but the advent of quantum computing has put some of these widely-used protocols under possible danger.\n",
    "\n",
    "Public-key cryptography, which is sometimes called asymmetric-key cryptography, is probably the most ubiquitous form of encryption used today. Its security is based on the complexity of factoring extremely large prime numbers, which was thought to be impossible in polynomial time [3]. Classically, at least, this is true, but once Peter Shor used quantum computing principles to devise the famous Shor algorithm, which factors large primes in polynomial time, the craze to build a quantum computer and harness its power really took off. Clearly, quantum computing held a different type of power that classical computing did not.\n",
    "\n",
    "Of course, Shor's algorithm also brought some flaws in public-key cryptography to light, although one would need not only a working quantum computer, but also probably quite a powerful one to reliably hack it in reasonable time. Still, the search for newer, better encryption methods commenced. Naturally, the quantum computing hype from Shor's algorithm also spawned quantum candidates for encryption, such as quantum key distribution (QKD).\n",
    "\n",
    "Very briefly, QKD is the umbrella term for quantum computing protocols that distribute private keys to enable secure transmission of messages, and therefore communication, between any two users. The purpose of a QKD scheme is to distribute a generated one-time pad from one party to another in a quantum fashion for use as a private key in a classical encryption/decryption regime. One-time pads have long been used to encrypt and decrypt messages, but the one downside they have is that it is very difficult to classically discern whether the one-time pad (to be used as a private key) has been intercepted by some adversary, which is a clear security concern. Luckily, that one crutch is almost completely solvable thanks to quantum mechanics and qubits, as we will show.\n",
    "\n",
    "In this project, we investigate a certain QKD protocol called the BB84, how it protects against interceptors, and how noise affects the protocol. We also look at some methods used to reduce errors in the message and curb hackers' knowledge of the message. Finally, we demonstrate and discuss the application of QKD in an ASCII one-time pad encryption scheme."
   ]
  },
  {
   "cell_type": "code",
   "execution_count": 3,
   "id": "monetary-projector",
   "metadata": {},
   "outputs": [
    {
     "name": "stdout",
     "output_type": "stream",
     "text": [
      "Import Success\n"
     ]
    }
   ],
   "source": [
    "# Check if qiskit is installed...\n",
    "# If not installed, install with pip.\n",
    "# Then import.\n",
    "import imp\n",
    "try:\n",
    "  imp.find_module('qiskit')\n",
    "  found = True\n",
    "except ImportError:\n",
    "  found = False\n",
    "  !pip install qiskit\n",
    "\n",
    "from qiskit import(\n",
    "  QuantumCircuit,\n",
    "  execute,\n",
    "  Aer)\n",
    "from qiskit.visualization import plot_histogram\n",
    "from qiskit import QuantumCircuit, Aer, transpile, assemble\n",
    "from qiskit.visualization import plot_histogram, plot_bloch_multivector\n",
    "from numpy.random import random,randint\n",
    "from random import sample\n",
    "import numpy as np\n",
    "import matplotlib.pyplot as plt\n",
    "\n",
    "print(\"Import Success\")"
   ]
  },
  {
   "cell_type": "markdown",
   "id": "working-things",
   "metadata": {},
   "source": [
    "## Helper Functions\n",
    "Note: This section contains functions from [1]. Most of this code has been directly copied for our purposes, but a few updates have been made where necessary.  Comments describe what each function does at a high level."
   ]
  },
  {
   "cell_type": "code",
   "execution_count": 6,
   "id": "committed-grocery",
   "metadata": {},
   "outputs": [],
   "source": [
    "n=100\n",
    "\n",
    "''' Create a list of QuantumCircuits - Each \n",
    "    QuantumCircuit represents a single\n",
    "    qubit in the transmitted (Alice's) message.\n",
    "    Each bit is encoded in either the Z-basis\n",
    "    or X-basis based on its assigned basis in\n",
    "    the bases array.\n",
    "'''\n",
    "def encode_message(bits, bases):\n",
    "    message = []\n",
    "    for i in range(n):\n",
    "        qc = QuantumCircuit(1,1)\n",
    "        if bases[i] == 0: # Z-basis encoding\n",
    "            if bits[i] == 0:\n",
    "                pass \n",
    "            else:\n",
    "                qc.x(0)\n",
    "        else: # X-basis encoding\n",
    "            if bits[i] == 0:\n",
    "                qc.h(0)\n",
    "            else:\n",
    "                qc.x(0)\n",
    "                qc.h(0)\n",
    "        qc.barrier()\n",
    "        message.append(qc)\n",
    "    return message\n",
    "\n",
    "''' Applies the measurement and simulates \n",
    "    the results of measuring each qubit\n",
    "'''\n",
    "def measure_message(message, bases):\n",
    "    backend = Aer.get_backend('qasm_simulator')\n",
    "    measurements = []\n",
    "    for q in range(n):\n",
    "        if bases[q] == 0: # Z-basis measurement\n",
    "            message[q].measure(0,0)\n",
    "        if bases[q] == 1: # X-basis measurement\n",
    "            message[q].h(0)\n",
    "            message[q].measure(0,0)\n",
    "            message[q].h(0)\n",
    "        qasm_sim = Aer.get_backend('qasm_simulator')\n",
    "        qobj = assemble(message[q], shots=1, memory=True)\n",
    "        result = qasm_sim.run(qobj).result()\n",
    "        measured_bit = int(result.get_memory()[0])\n",
    "        measurements.append(measured_bit)\n",
    "    return measurements\n",
    "\n",
    "''' Only keep bits that were measured in\n",
    "    the same basis\n",
    "'''\n",
    "def remove_garbage(a_bases, b_bases, bits):\n",
    "    good_bits = []\n",
    "    for q in range(n):\n",
    "        if a_bases[q] == b_bases[q]:\n",
    "            good_bits.append(bits[q])\n",
    "    return good_bits\n",
    "\n",
    "''' Compare the random selection of bits \n",
    "    received in Bob and Alice's keys\n",
    "'''\n",
    "def sample_bits(bits, selection):\n",
    "    sample = []\n",
    "    for i in selection:\n",
    "        i = np.mod(i, len(bits))\n",
    "        sample.append(bits.pop(i))\n",
    "    return sample"
   ]
  },
  {
   "cell_type": "markdown",
   "id": "thick-encyclopedia",
   "metadata": {},
   "source": [
    "## 1. Preliminaries: How Interception Can Alter Quantum Outcomes\n",
    "\n",
    "First, we introduce Alice, the message sender, and Bob, the message receiver, who will be used in these roles throughout this report. As a preliminary, we show that qubits can be used to communicate classical information. Suppose that Alice would like to send the bit 0 to Bob. She chooses to encode 0 in the Pauli X-basis as $|0_X\\rangle = \\frac{1}{\\sqrt{2}}(|0\\rangle + |1\\rangle)$, where $|0\\rangle$ and $|1\\rangle$ are eigenstates of Pauli Z operator. She can then send this qubit to Bob. If Bob measures the qubit in the X-basis, he will measure 0 (the intended bit) 100% of the time, as shown below in Figure 1.1 [1]."
   ]
  },
  {
   "cell_type": "code",
   "execution_count": 2,
   "id": "digital-equilibrium",
   "metadata": {},
   "outputs": [
    {
     "data": {
      "text/html": [
       "<pre style=\"word-wrap: normal;white-space: pre;background: #fff0;line-height: 1.1;font-family: &quot;Courier New&quot;,Courier,monospace\">     ┌───┐ ░ ┌───┐┌─┐\n",
       "q_0: ┤ H ├─░─┤ H ├┤M├\n",
       "     └───┘ ░ └───┘└╥┘\n",
       "c: 1/══════════════╩═\n",
       "                   0 </pre>"
      ],
      "text/plain": [
       "     ┌───┐ ░ ┌───┐┌─┐\n",
       "q_0: ┤ H ├─░─┤ H ├┤M├\n",
       "     └───┘ ░ └───┘└╥┘\n",
       "c: 1/══════════════╩═\n",
       "                   0 "
      ]
     },
     "metadata": {},
     "output_type": "display_data"
    },
    {
     "data": {
      "image/png": "[encoded data removed]",
      "text/plain": [
       "<Figure size 504x360 with 1 Axes>"
      ]
     },
     "execution_count": 2,
     "metadata": {},
     "output_type": "execute_result"
    }
   ],
   "source": [
    "qc = QuantumCircuit(1,1) # This starts with qubit in state |0> by default\n",
    "\n",
    "# Alice encodes 0 in the X-basis\n",
    "qc.h(0) # Hadamard changes |0> to |+>=|0_x> \n",
    "qc.barrier() # Alice sends the qubit to Bob\n",
    "\n",
    "# Bob measures in X-basis\n",
    "qc.h(0)\n",
    "qc.measure(0,0)\n",
    "\n",
    "# Draw and simulate circuit\n",
    "display(qc.draw())\n",
    "qasm_sim = Aer.get_backend('qasm_simulator')\n",
    "job = qasm_sim.run(assemble(qc))\n",
    "plot_histogram(job.result().get_counts(), title='Figure 1.1')"
   ]
  },
  {
   "cell_type": "markdown",
   "id": "waiting-occurrence",
   "metadata": {},
   "source": [
    "However, if Bob measures the bit in the Pauli Z-basis, he will only measure the bit correctly 50% of the time, as predicted by quantum mechanics and shown below in Figure 1.2."
   ]
  },
  {
   "cell_type": "code",
   "execution_count": 14,
   "id": "liberal-thread",
   "metadata": {},
   "outputs": [
    {
     "data": {
      "text/html": [
       "<pre style=\"word-wrap: normal;white-space: pre;background: #fff0;line-height: 1.1;font-family: &quot;Courier New&quot;,Courier,monospace\">     ┌───┐ ░ ┌─┐\n",
       "q_0: ┤ H ├─░─┤M├\n",
       "     └───┘ ░ └╥┘\n",
       "c: 1/═════════╩═\n",
       "              0 </pre>"
      ],
      "text/plain": [
       "     ┌───┐ ░ ┌─┐\n",
       "q_0: ┤ H ├─░─┤M├\n",
       "     └───┘ ░ └╥┘\n",
       "c: 1/═════════╩═\n",
       "              0 "
      ]
     },
     "metadata": {},
     "output_type": "display_data"
    },
    {
     "data": {
      "image/png": "[encoded data removed]",
      "text/plain": [
       "<Figure size 504x360 with 1 Axes>"
      ]
     },
     "execution_count": 14,
     "metadata": {},
     "output_type": "execute_result"
    }
   ],
   "source": [
    "qc = QuantumCircuit(1,1)\n",
    "\n",
    "# Alice encodes 0 in X-basis as |+>=|0_x>\n",
    "qc.h(0)\n",
    "qc.barrier() # Alice sends the qubit to Bob\n",
    "\n",
    "# Bob measures in Z-basis\n",
    "qc.measure(0,0)\n",
    "\n",
    "display(qc.draw())\n",
    "qasm_sim = Aer.get_backend('qasm_simulator')\n",
    "job = qasm_sim.run(assemble(qc))\n",
    "plot_histogram(job.result().get_counts(), title='Figure 1.2')"
   ]
  },
  {
   "cell_type": "markdown",
   "id": "weird-tactics",
   "metadata": {},
   "source": [
    "By symmetry, the same applies when Alice encodes her bit in the Z-basis, and Bob measures in either the Z-basis or X-basis. Thus, if Alice encodes each of her bits using a random basis (X or Z), sends the qubits to Bob, and Bob measures the received qubits each using a random basis (X or Z), Bob will measure any given bit correctly 100% of the time when Bob uses the same basis as the one Alice used to encode that bit, and Bob will measure any given bit correctly only 50% of the time when Bob uses the other basis (the one Alice did not use to encode the bit). If Alice and Bob compare bases publicly, they can eliminate the bits that were encoded/measured in different bases, and only retain those encoded/measured in the same basis, which results in Alice and Bob having the same bits at the end.\n",
    "\n",
    "However, an interceptor can throw a wrench in to this and introduce some error. Suppose Alice again encodes 0 in the X-basis and sends $|0_X\\rangle$ to Bob. This time though, an interceptor named Eve (used as such throughout the report) comes in and measures the qubit in the Z-basis. Then, $|0_X\\rangle$ is transformed into either $|0\\rangle$ or $|1\\rangle$ as a result of the measurement. Even if Bob measures in the X-basis now (the correct basis), he will measure the correct bit 0 only 50% of the time, and 1 50% of the time, as shown in Figure 1.3 below [1]."
   ]
  },
  {
   "cell_type": "code",
   "execution_count": 4,
   "id": "chinese-banana",
   "metadata": {},
   "outputs": [
    {
     "data": {
      "text/html": [
       "<pre style=\"word-wrap: normal;white-space: pre;background: #fff0;line-height: 1.1;font-family: &quot;Courier New&quot;,Courier,monospace\">     ┌───┐┌─┐ ░ ┌───┐┌─┐\n",
       "q_0: ┤ H ├┤M├─░─┤ H ├┤M├\n",
       "     └───┘└╥┘ ░ └───┘└╥┘\n",
       "c: 1/══════╩══════════╩═\n",
       "           0          0 </pre>"
      ],
      "text/plain": [
       "     ┌───┐┌─┐ ░ ┌───┐┌─┐\n",
       "q_0: ┤ H ├┤M├─░─┤ H ├┤M├\n",
       "     └───┘└╥┘ ░ └───┘└╥┘\n",
       "c: 1/══════╩══════════╩═\n",
       "           0          0 "
      ]
     },
     "metadata": {},
     "output_type": "display_data"
    },
    {
     "data": {
      "image/png": "[encoded data removed]",
      "text/plain": [
       "<Figure size 504x360 with 1 Axes>"
      ]
     },
     "execution_count": 4,
     "metadata": {},
     "output_type": "execute_result"
    }
   ],
   "source": [
    "qc = QuantumCircuit(1,1)\n",
    "\n",
    "# Alice encodes 0 in X-basis as |+>=|0_x>\n",
    "qc.h(0)\n",
    "# Alice now sends the qubit to Bob\n",
    "\n",
    "# But Eve intercepts and measures the qubit in Z-basis!\n",
    "qc.measure(0, 0)\n",
    "qc.barrier()\n",
    "# Eve then passes the resulting qubit (after measurement) to Bob\n",
    "\n",
    "# Bob measures qubit in the X-basis\n",
    "qc.h(0)\n",
    "qc.measure(0,0)\n",
    "\n",
    "display(qc.draw())\n",
    "qasm_sim = Aer.get_backend('qasm_simulator')\n",
    "job = qasm_sim.run(assemble(qc))\n",
    "plot_histogram(job.result().get_counts(), title='Figure 1.3')"
   ]
  },
  {
   "cell_type": "markdown",
   "id": "binding-novel",
   "metadata": {},
   "source": [
    "Thus, even after the elimination of bits encoded/measured in different bases, Alice's and Bob's keys may not match, because Bob may have measured the wrong bit 1 on the intercepted bit. The act of interception has introduced error into the assumed-perfect quantum communication system!\n",
    "\n",
    "These preliminaries show the key principle that makes QKD effective in detecting interceptors: assuming low enough noise, if Alice and Bob compare some bits in their results (after eliminating those encoded/measured in different bases), and there is error in those bits, they can be very confident that an interception has occurred, and their strings of bits can be discarded instead of being used as private keys. These observations are made more formal in the following report, looking at the effects of interceptors and noise on the BB84 QKD protocol introduced below."
   ]
  },
  {
   "cell_type": "markdown",
   "id": "relevant-mattress",
   "metadata": {},
   "source": [
    "## 2. BB84 Protocol\n",
    "\n",
    "The base protocol that we will be investigating in this project is the BB84 QKD protocol [2]. Suppose Alice would like to send 100 bits to Bob to establish a private key for use in a one-time pad encryption scheme. For the message sender, Alice, and message receiver, Bob, this protocol proceeds as follows [5]:\n",
    "1. Alice has classical bits that she wants to send. She first generates a string of bases (either X or Z) that is the same length as her array of bits.\n",
    "2. Next, she encodes her message based on her bits and bases. For example, if her i-th bit is 0 and her i-th basis is Z, she will encode this as a qubit in state $|0\\rangle$, where $|0\\rangle$ and $|1\\rangle$ are the usual Z eigenstate. If instead her i-th basis was X, she will encode the bit as a qubit in state $\\frac{1}{\\sqrt{2}}(|0\\rangle + |1\\rangle)$.\n",
    "3. She then sends her generated qubit message to Bob.\n",
    "4. Bob generates his own string of bases (either X or Z) in the meantime, and measures the quantum message that Alice has sent in these bases. For example, if the i-th basis is X, then Bob measures the i-th qubit in the message in basis X. This generates Bob's measured bits, or results.\n",
    "5. Alice publishes her bases, and they both remove bits for which their bases differed.\n",
    "6. Lastly, they publicly compare a sample of their measurements/bits to see if the sample matches. Usually, if the difference between Alice's sample and Bob's sample is below their accepted threshold level, the channel is taken to be secure enough and communication proceeds with the keys that Alice and Bob have generated and agreed upon.\n",
    "\n",
    "Note: This code follows the code presented in [1]. This is a standard protocol upon which we will add new elements throughout the report."
   ]
  },
  {
   "cell_type": "code",
   "execution_count": 35,
   "id": "graduate-mixer",
   "metadata": {},
   "outputs": [
    {
     "name": "stdout",
     "output_type": "stream",
     "text": [
      "  bob_sample = [0, 0, 1, 0, 1, 0, 1, 0, 0, 0, 1, 0, 1, 1, 1]\n",
      "alice_sample = [0, 0, 1, 0, 1, 0, 1, 0, 0, 0, 1, 0, 1, 1, 1]\n"
     ]
    },
    {
     "data": {
      "text/plain": [
       "True"
      ]
     },
     "execution_count": 35,
     "metadata": {},
     "output_type": "execute_result"
    }
   ],
   "source": [
    "# Throughout the report, the number of bits that Alice would like to send to establish a private key\n",
    "# will be taken to be 100.\n",
    "n = 100\n",
    "\n",
    "alice_bits = randint(2, size=n)\n",
    "\n",
    "## Step 1\n",
    "alice_bases = randint(2, size=n)\n",
    "\n",
    "## Step 2\n",
    "message = encode_message(alice_bits, alice_bases)\n",
    "\n",
    "## Step 3: Send to Bob\n",
    "\n",
    "## Step 4\n",
    "bob_bases = randint(2, size=n)\n",
    "bob_results = measure_message(message, bob_bases)\n",
    "\n",
    "## Step 5\n",
    "alice_key = remove_garbage(alice_bases, bob_bases, alice_bits)\n",
    "bob_key = remove_garbage(alice_bases, bob_bases, bob_results)\n",
    "\n",
    "## Step 6\n",
    "sample_size = min(15,len(bob_key))\n",
    "bit_selection = sample(range(len(bob_key)), sample_size)\n",
    "\n",
    "bob_sample = sample_bits(bob_key, bit_selection)\n",
    "print(\"  bob_sample = \" + str(bob_sample))\n",
    "alice_sample = sample_bits(alice_key, bit_selection)\n",
    "print(\"alice_sample = \"+ str(alice_sample))\n",
    "\n",
    "## Comparing Alice's sample with Bob's\n",
    "bob_sample == alice_sample"
   ]
  },
  {
   "cell_type": "markdown",
   "id": "loaded-latino",
   "metadata": {},
   "source": [
    "Upon comparing samples, Alice and Bob find that the samples are equal, and so their keys are taken to be acceptable to encrypt/trasnfer/decrypt information with. \n",
    "\n",
    "In the next iteration, we introduce Eve, the interceptor. As the message from Alice is being sent to Bob in Step 3, Eve decides to measure the qubits for herself in her own set of bases, and then divert/re-send the same qubits to Bob. However, since Eve has no idea which bases Alice has encoded each qubit in, she ends up measuring some qubits incorrectly, and thereby causes Bob to measure the qubit incorrectly sometimes even when Bob chooses the correct basis! This was discussed as an example in Section 1, where Eve's interception caused an error even when Bob measures the qubit in the correct basis. The fact that such an error exists can be used to test for whether someone is intercepting the message, ignoring noise for now.\n",
    "\n",
    "Note: This code is also directly from [1]. The rest of the report expands upon and tests this protocol in various ways."
   ]
  },
  {
   "cell_type": "code",
   "execution_count": 15,
   "id": "bound-better",
   "metadata": {},
   "outputs": [
    {
     "name": "stdout",
     "output_type": "stream",
     "text": [
      "  bob_sample = [1, 1, 1, 0, 1, 1, 0, 1, 0, 0, 0, 0, 1, 0, 0]\n",
      "alice_sample = [0, 1, 1, 1, 0, 0, 0, 1, 1, 1, 0, 0, 1, 1, 0]\n"
     ]
    },
    {
     "data": {
      "text/plain": [
       "False"
      ]
     },
     "execution_count": 15,
     "metadata": {},
     "output_type": "execute_result"
    }
   ],
   "source": [
    "n = 100\n",
    "\n",
    "alice_bits = randint(2, size=n)\n",
    "alice_bases = randint(2, size=n)\n",
    "message = encode_message(alice_bits, alice_bases)\n",
    "\n",
    "## Interception of qubits that Alice has sent to Bob!\n",
    "eve_bases = randint(2, size=n)\n",
    "intercepted_message = measure_message(message, eve_bases)\n",
    "\n",
    "\n",
    "bob_bases = randint(2, size=n)\n",
    "bob_results = measure_message(message, bob_bases)\n",
    "\n",
    "bob_key = remove_garbage(alice_bases, bob_bases, bob_results)\n",
    "alice_key = remove_garbage(alice_bases, bob_bases, alice_bits)\n",
    "\n",
    "sample_size = min(15,len(bob_key))\n",
    "bit_selection = sample(range(len(bob_key)), sample_size)\n",
    "bob_sample = sample_bits(bob_key, bit_selection)\n",
    "print(\"  bob_sample = \" + str(bob_sample))\n",
    "alice_sample = sample_bits(alice_key, bit_selection)\n",
    "print(\"alice_sample = \"+ str(alice_sample))\n",
    "\n",
    "bob_sample == alice_sample"
   ]
  },
  {
   "cell_type": "markdown",
   "id": "removable-sleeve",
   "metadata": {},
   "source": [
    "Here, due to the interception, Alice's and Bob's samples differ in some places. If they know that noise is not present in the channel (such as in this case), they can deduce from the errors that someone must be intercepting their message, and they will not use their respective keys for communication."
   ]
  },
  {
   "cell_type": "markdown",
   "id": "nonprofit-scheduling",
   "metadata": {},
   "source": [
    "## 3. Detecting the Interceptor\n",
    "\n",
    "As noted in the previous section, the interceptor is relatively easy to detect when there is no noise deu to the error that the act of intercepting incurs. One can calculate the theoretical probability that Eve is detected due to this error. Without loss of generality, let's say that Alice sends a 0 in the Z-basis. Then Eve has a 50% chance of choosing the correct basis (Z), and a 50% chance of choosing the wrong basis (X). If Eve chooses the correct basis, the interception will necessarily go undetected, as Eve relays the same bit that she measures to Bob. If Eve chooses the wrong basis, then she sends a bit in the wrong basis to Bob. Now, Bob has a 50% chance to choose the right basis as well. If he chooses a basis different from Alice (X), the measurement result is discarded anyway, and the result would never be compared with Alice. If he chooses the correct basis (Z) after Eve has chosen the wrong one (X), then Bob may still measure the correct value of 0 50% of the time! Hence, Eve will still be undetected if Bob measures the correct value for the bit, but if Bob measures the wrong value, the error will persist in Bob's key, and Eve will be detected.\n",
    "\n",
    "More formally, we can use the usual formula for conditional probabilities. Setting the events:\n",
    "\n",
    "  > A = Eve chooses wrong basis <br>\n",
    "  > B = Bob measures the wrong value in the correct basis,\n",
    "\n",
    "we have that:\n",
    "\n",
    "  >P(Eve detected over a single bit) = $P(A$ and $B)$ = $P(A)P(B|A)$ = $0.5*0.5$ = $0.25$\n",
    "\n",
    "So if Eve intercepts every bit, the probability that any given bit compared by Alice and Bob do not match is 25%. The probability that Eve goes undetected over some k bits compared by Alice and Bob is the probability that each of the compared bits pairs correctly match, which is [1]:\n",
    "\n",
    "  >P(Eve undetected over k compared bits) = $(0.75)^k$\n",
    "\n",
    "So the theoretical probability that Eve is detected over those same k compared bits is:\n",
    "\n",
    "  >P(Eve detected over k compared bits) = $1 - (0.75)^k$\n",
    "\n",
    "This theoretical probability is plotted below versus number of compared bits."
   ]
  },
  {
   "cell_type": "code",
   "execution_count": 590,
   "id": "portable-nickname",
   "metadata": {},
   "outputs": [],
   "source": [
    "# Calculating the theoretical detection probability found above over a range of bits compared\n",
    "bits_compared = np.arange(1,100,2)\n",
    "theoretical_detection = np.zeros(len(bits_compared))\n",
    "for i in range(0,len(theoretical_detection)):\n",
    "    theoretical_detection[i] = 1-(0.75**bits_compared[i])"
   ]
  },
  {
   "cell_type": "code",
   "execution_count": 591,
   "id": "adjacent-minnesota",
   "metadata": {},
   "outputs": [
    {
     "data": {
      "text/plain": [
       "Text(0.5, 1.0, 'Figure 3.1')"
      ]
     },
     "execution_count": 591,
     "metadata": {},
     "output_type": "execute_result"
    },
    {
     "data": {
      "image/png": "[encoded data removed]",
      "text/plain": [
       "<Figure size 432x288 with 1 Axes>"
      ]
     },
     "metadata": {
      "needs_background": "light"
     },
     "output_type": "display_data"
    }
   ],
   "source": [
    "# Plotting the theoretical detection probability in Figure 3.1\n",
    "plt.plot(bits_compared, theoretical_detection)\n",
    "plt.grid(True)\n",
    "plt.xlabel('Bits Compared')\n",
    "plt.ylabel('Eve Detection Probability')\n",
    "plt.title('Figure 3.1')"
   ]
  },
  {
   "cell_type": "markdown",
   "id": "conventional-appeal",
   "metadata": {},
   "source": [
    "Figure 3.1 above shows that as we compare more bits, the probability that Eve (who has intercepted all of those bits) is detected increases exponentially, which makes practical sense.\n",
    "\n",
    "We can test the detection of an interceptor empirically as well. The function below (is_Eve_detected) proceeds through the BB84 protocol with interception (as done in the previous section), and returns whether the bits compared by Alice and Bob differ anywhere. In other words, the function returns whether Eve's interception is detected (True) or not (False)."
   ]
  },
  {
   "cell_type": "code",
   "execution_count": 592,
   "id": "combined-pencil",
   "metadata": {},
   "outputs": [
    {
     "data": {
      "text/plain": [
       "True"
      ]
     },
     "execution_count": 592,
     "metadata": {},
     "output_type": "execute_result"
    }
   ],
   "source": [
    "# This function completes the BB84 procedure, \n",
    "# and with some inputted bits_to_compare between Alice and Bob\n",
    "# outputs if Eve has been detected\n",
    "# by testing if the samples that Alice and Bob compare do not match.\n",
    "def is_Eve_detected(bits_to_compare):\n",
    "    n = 100\n",
    "    \n",
    "    alice_bits = randint(2, size=n)\n",
    "    alice_bases = randint(2, size=n)\n",
    "    message = encode_message(alice_bits, alice_bases)\n",
    "    \n",
    "    eve_bases = randint(2, size=n)\n",
    "    intercepted_message = measure_message(message, eve_bases)\n",
    "\n",
    "    bob_bases = randint(2, size=n)\n",
    "    bob_results = measure_message(message, bob_bases)\n",
    "\n",
    "    bob_key = remove_garbage(alice_bases, bob_bases, bob_results)\n",
    "    alice_key = remove_garbage(alice_bases, bob_bases, alice_bits)\n",
    "\n",
    "    sample_size = min(bits_to_compare,len(bob_key))\n",
    "    bit_selection = sample(range(len(bob_key)), sample_size)\n",
    "    bob_sample = sample_bits(bob_key, bit_selection)\n",
    "    alice_sample = sample_bits(alice_key, bit_selection)\n",
    "    \n",
    "    return bob_sample != alice_sample\n",
    "\n",
    "is_Eve_detected(3)"
   ]
  },
  {
   "cell_type": "markdown",
   "id": "affecting-houston",
   "metadata": {},
   "source": [
    "Using this function, we find the empirical frequency that Eve goes undetected over various numbers of bits compared. A total of 100 trials are conducted for each specific number of bits compared."
   ]
  },
  {
   "cell_type": "code",
   "execution_count": 16,
   "id": "alpha-collectible",
   "metadata": {},
   "outputs": [
    {
     "data": {
      "text/plain": [
       "array([0.22, 0.65, 0.77, 0.83, 0.89, 0.96, 0.96, 0.99, 0.98, 0.99])"
      ]
     },
     "execution_count": 16,
     "metadata": {},
     "output_type": "execute_result"
    }
   ],
   "source": [
    "# Warning: This section takes ~10 minutes to run\n",
    "# Tests if Eve is detected over a range of bits_to_compare\n",
    "# Each bits_to_compare is tested 100 times, and whether Eve is detected is averaged over all trials\n",
    "# To get a 'Eve Detection Probability'\n",
    "bits_to_compare_list = np.arange(1,20,2)\n",
    "eve_detection_rate = np.ones(len(bits_to_compare_list))\n",
    "attempts = 100\n",
    "\n",
    "for j in range(0,len(bits_to_compare_list)):\n",
    "    bits_to_compare = bits_to_compare_list[j]\n",
    "\n",
    "    attempt_list = np.ones(attempts)\n",
    "    for i in range(0,attempts):\n",
    "        attempt_list[i] = is_Eve_detected(int(bits_to_compare))\n",
    "\n",
    "    eve_detection_rate[j] = sum(attempt_list)/attempts\n",
    "eve_detection_rate\n"
   ]
  },
  {
   "cell_type": "markdown",
   "id": "ordinary-audit",
   "metadata": {},
   "source": [
    "The results are plotted below in Figure 3.2 as the probability that Eve goes undetected versus the number of bits compared by Alice and Bob. The theoretical probability plotted in Figure 3.1 is reproduced here as well to check the accuracy of the results."
   ]
  },
  {
   "cell_type": "code",
   "execution_count": 17,
   "id": "contained-variety",
   "metadata": {},
   "outputs": [
    {
     "data": {
      "text/plain": [
       "<matplotlib.legend.Legend at 0x7fd70113a110>"
      ]
     },
     "execution_count": 17,
     "metadata": {},
     "output_type": "execute_result"
    },
    {
     "data": {
      "image/png": "[encoded data removed]",
      "text/plain": [
       "<Figure size 432x288 with 1 Axes>"
      ]
     },
     "metadata": {
      "needs_background": "light"
     },
     "output_type": "display_data"
    }
   ],
   "source": [
    "# Theoretical range\n",
    "bits_compared = np.arange(1,20,2)\n",
    "theoretical_detection = np.zeros(len(bits_compared))\n",
    "for i in range(0,len(theoretical_detection)):\n",
    "    theoretical_detection[i] = 1 - 0.75**bits_compared[i]\n",
    "\n",
    "# Plotting empirical data from above\n",
    "plt.plot(bits_compared, theoretical_detection, label='Theoretical')\n",
    "plt.plot(bits_to_compare_list, eve_detection_rate, 'rx', label='Test')\n",
    "plt.grid(True)\n",
    "plt.xlabel('Bits Compared')\n",
    "plt.ylabel('Eve Detection Probability')\n",
    "plt.title('Figure 3.2')\n",
    "plt.legend()\n",
    "# plt.yscale('log')"
   ]
  },
  {
   "cell_type": "markdown",
   "id": "balanced-russia",
   "metadata": {},
   "source": [
    "As Figure 3.2 shows, the empirical simulation results support the theoretical conclusion: Eve is increasingly likely to get detected with more bits compared by Alice and Bob. The action of comparing many bits may come with its own security concern though, so users are often satisfied to compare just enough bits to keep the probability that an interceptor is detected above a certain threshold."
   ]
  },
  {
   "cell_type": "markdown",
   "id": "viral-session",
   "metadata": {},
   "source": [
    "From the discussion above, we see that intercepting every single bit may not be the best course of action for the interceptor Eve. Surely she could get away with some more mischief if she intercepted and measured only some small fraction of the qubits sent by Alice. We test the possibility of this below using a couple of new functions. The function `is_Eve_detected` has been modified to include the variable `f_int`, which is the fraction of bits that Eve intercepts, with the help of the function `eve_measure_message` below."
   ]
  },
  {
   "cell_type": "code",
   "execution_count": 7,
   "id": "seeing-sharing",
   "metadata": {},
   "outputs": [
    {
     "data": {
      "text/plain": [
       "False"
      ]
     },
     "execution_count": 7,
     "metadata": {},
     "output_type": "execute_result"
    }
   ],
   "source": [
    "# Eve Only Measuring some fraction/selection of the total bits\n",
    "\n",
    "def eve_measure_message(message, bases, indices):\n",
    "    backend = Aer.get_backend('qasm_simulator')\n",
    "    measurements = []\n",
    "    n = len(bases)\n",
    "    for q in range(n):\n",
    "        if bases[q] == 0: # measuring in Z-basis\n",
    "            message[indices[q]].measure(0,0)\n",
    "        if bases[q] == 1: # measuring in X-basis\n",
    "            message[indices[q]].h(0)\n",
    "            message[indices[q]].measure(0,0)\n",
    "            message[indices[q]].h(0)\n",
    "        qasm_sim = Aer.get_backend('qasm_simulator')\n",
    "        qobj = assemble(message[indices[q]], shots=1, memory=True)\n",
    "        result = qasm_sim.run(qobj).result()\n",
    "        measured_bit = int(result.get_memory()[0])\n",
    "        measurements.append(measured_bit)\n",
    "    return measurements\n",
    "\n",
    "# is_Eve_detected is modified to test whether Eve has been detected given bits_to_compare\n",
    "# with an additional input what fraction of bits has been intercepted by Eve, f_int\n",
    "def is_Eve_detected(bits_to_compare,f_int=1):\n",
    "    n=100\n",
    "    \n",
    "    alice_bits = randint(2, size=n)\n",
    "    alice_bases = randint(2, size=n)\n",
    "\n",
    "    message = encode_message(alice_bits, alice_bases)\n",
    "\n",
    "    # Eve interception\n",
    "    n_eve=int(f_int*n)\n",
    "    eve_bit_selection = sample(range(n), n_eve)\n",
    "    eve_bases = randint(2, size=n_eve)\n",
    "    intercepted_message = eve_measure_message(message, eve_bases, eve_bit_selection)\n",
    "\n",
    "    ## Step 3\n",
    "    bob_bases = randint(2, size=n)\n",
    "    bob_results = measure_message(message, bob_bases)\n",
    "    ## Step 4\n",
    "    bob_key = remove_garbage(alice_bases, bob_bases, bob_results)\n",
    "    alice_key = remove_garbage(alice_bases, bob_bases, alice_bits)\n",
    "    ## Step 5\n",
    "    sample_size = bits_to_compare\n",
    "    bit_selection = sample(range(len(bob_key)), sample_size)\n",
    "    \n",
    "    bob_sample = sample_bits(bob_key, bit_selection)\n",
    "    alice_sample = sample_bits(alice_key, bit_selection)\n",
    "    \n",
    "    return bob_sample != alice_sample\n",
    "\n",
    "is_Eve_detected(5,0.05)"
   ]
  },
  {
   "cell_type": "markdown",
   "id": "secondary-coordinator",
   "metadata": {},
   "source": [
    "We use this function to test how easy it is to detect Eve over a range of different fractions intercepted by Eve, as well as different percentage of bits compared. The results are plotted Figure 3.3 below as a heatplot, which shows the empirical percentage of times Eve was detected versus the two independent variables: percentage of bits intercepted by Eve and percentage of bits compared by Alice and Bob."
   ]
  },
  {
   "cell_type": "code",
   "execution_count": 612,
   "id": "single-closure",
   "metadata": {},
   "outputs": [
    {
     "data": {
      "text/plain": [
       "array([[0.   , 0.   , 0.125, 0.125, 0.2  , 0.25 , 0.225, 0.175, 0.375,\n",
       "        0.325],\n",
       "       [0.05 , 0.125, 0.1  , 0.2  , 0.3  , 0.45 , 0.525, 0.55 , 0.5  ,\n",
       "        0.6  ],\n",
       "       [0.075, 0.175, 0.4  , 0.25 , 0.4  , 0.5  , 0.45 , 0.65 , 0.65 ,\n",
       "        0.675],\n",
       "       [0.125, 0.3  , 0.325, 0.475, 0.675, 0.625, 0.625, 0.7  , 0.8  ,\n",
       "        0.75 ],\n",
       "       [0.125, 0.25 , 0.425, 0.575, 0.5  , 0.7  , 0.85 , 0.775, 0.9  ,\n",
       "        0.925],\n",
       "       [0.15 , 0.35 , 0.65 , 0.575, 0.6  , 0.725, 0.75 , 0.95 , 0.9  ,\n",
       "        0.9  ],\n",
       "       [0.2  , 0.45 , 0.525, 0.7  , 0.875, 0.725, 0.875, 0.95 , 0.9  ,\n",
       "        0.95 ],\n",
       "       [0.175, 0.625, 0.625, 0.75 , 0.8  , 0.85 , 0.9  , 0.9  , 1.   ,\n",
       "        0.925],\n",
       "       [0.25 , 0.325, 0.55 , 0.825, 0.825, 0.9  , 0.9  , 0.95 , 0.95 ,\n",
       "        0.975],\n",
       "       [0.475, 0.575, 0.725, 0.75 , 0.9  , 0.875, 0.95 , 0.975, 0.95 ,\n",
       "        1.   ]])"
      ]
     },
     "execution_count": 612,
     "metadata": {},
     "output_type": "execute_result"
    }
   ],
   "source": [
    "import pandas as pd\n",
    "import seaborn as sns\n",
    "\n",
    "# Tests if Eve is detected over a range of bits_to_compare,f_int\n",
    "# Each (bits_to_compare,f_int) pair is tested  40 times, and whether Eve is detected is averaged over all trials\n",
    "# To get a 'Eve Detection Probability' for the pair\n",
    "bits_to_compare_list=np.arange(3,31,3)\n",
    "f_int_list=np.arange(0.05,0.52,0.05)\n",
    "intercept_detection_rate = np.ones((len(bits_to_compare_list),len(f_int_list)))\n",
    "attempts=40\n",
    "\n",
    "for i in range(len(bits_to_compare_list)):\n",
    "    bits_to_compare=bits_to_compare_list[i]\n",
    "    for j in range(len(f_int_list)):\n",
    "        f_int=f_int_list[j]\n",
    "        attempt_list=np.zeros(attempts)\n",
    "        for k in range(attempts):\n",
    "            attempt_list[k]=is_Eve_detected(bits_to_compare, f_int)\n",
    "        \n",
    "        intercept_detection_rate[i][j]=sum(attempt_list)/attempts\n",
    "\n",
    "intercept_detection_rate"
   ]
  },
  {
   "cell_type": "code",
   "execution_count": 613,
   "id": "medical-gilbert",
   "metadata": {},
   "outputs": [
    {
     "data": {
      "image/png": "[encoded data removed]",
      "text/plain": [
       "<Figure size 640x480 with 2 Axes>"
      ]
     },
     "metadata": {
      "needs_background": "light"
     },
     "output_type": "display_data"
    }
   ],
   "source": [
    "# Empirical data from above is plotted in a heatplot in Figure 3.3\n",
    "f_int_pct_list=np.arange(5,51,5)\n",
    "plt.figure(figsize=(8, 6), dpi=80)\n",
    "data=pd.DataFrame(intercept_detection_rate,index=bits_to_compare_list,columns=f_int_pct_list)\n",
    "ax=sns.heatmap(data, cmap = sns.cm.rocket_r, cbar_kws={'label': 'Eve Detection Probability'})\n",
    "ax.figure.axes[-1].yaxis.label.set_size(16)\n",
    "ax.invert_yaxis()\n",
    "ax.title.set_text('Figure 3.3')\n",
    "plt.ylabel(\"Fraction of Bits Compared\", size=16)\n",
    "plt.xlabel(\"Fraction of Bits Eve Intercepted\", size=16)\n",
    "plt.show()"
   ]
  },
  {
   "cell_type": "markdown",
   "id": "drawn-wings",
   "metadata": {},
   "source": [
    "Looking at Figure 3.3, it can be seen that even when Alice and Bob are only comparing a small percentage of their bits publicly at the end, they are still able to detect Eve with high probability. Along any fixed percentage intercepted by Eve, we see an exponential increase in detection as bits compared increases, just as we have seen previously when Eve intercepted all bits. \n",
    "\n",
    "When sending a quantum key twice the length of the intended message, Alice and Bob can compare up to 50% of their bits and still have enough over for their one-time-pad. If they send even more bits, they could increase this detection rate even more to whatever minimum level of detection they desire. Furthermore, even if Eve is only measuring 10% of the bits sent, she will still get 50% of the bases wrong which means she would need to measure even more bits to truly understand the message being sent."
   ]
  },
  {
   "cell_type": "markdown",
   "id": "starting-beverage",
   "metadata": {},
   "source": [
    "## 4. Introducing Noise\n",
    "\n",
    "In the previous section, we saw that Alice and Bob were able to detect Eve by sampling their keys and checking for errors. In practice, though, there is always the possibility that an error in the compared bits is caused by noise rather than an interceptor. \n",
    "\n",
    "Noise is often acknowledged as one of the major roadblocks that must be overcome in highly delicate quantum systems. In this section, we introduce noise to the BB84 protocol, investigating its effects on the system and how similar it can look to the action of an interceptor. Our model of noise is essentially a bit flip in either of the two bases; applying the `apply_noise` function below imparts noise on the qubits with probability `noise_p`, where noise has the following effects on the qubits used (up to some global phase):\n",
    "\n",
    " > $|0\\rangle \\rightarrow |1\\rangle$ <br>\n",
    " > $|1\\rangle \\rightarrow |0\\rangle$ <br>\n",
    " > $|0_X\\rangle = \\frac{1}{\\sqrt{2}}(|0\\rangle+|1\\rangle) \\rightarrow |1_X\\rangle = \\frac{1}{\\sqrt{2}}(|0\\rangle-|1\\rangle)$ <br>\n",
    " > $|1_X\\rangle = \\frac{1}{\\sqrt{2}}(|0\\rangle-|1\\rangle) \\rightarrow |0_X\\rangle = \\frac{1}{\\sqrt{2}}(|0\\rangle+|1\\rangle)$"
   ]
  },
  {
   "cell_type": "code",
   "execution_count": 11,
   "id": "informal-jewel",
   "metadata": {},
   "outputs": [],
   "source": [
    "# Noise is the application of both Pauli X and Pauli Z, as described in our model description above\n",
    "# For any given bit, applies noise with some probability noise_p\n",
    "def apply_noise(message, noise_p):\n",
    "    for q in range(len(message)):\n",
    "        r = np.random.random()\n",
    "        if(r<noise_p):\n",
    "            message[q].x(0)\n",
    "            message[q].z(0)\n",
    "    \n",
    "    return message\n",
    "\n",
    "# Given a noise probability noise_p and certain bits_to_compare, performs BB84\n",
    "# with noise when Alice sends qubits to Bob\n",
    "# and outputs if noise has been detected by Alice and Bob (any error when they compare samples)\n",
    "def is_noise_present(noise_p, bits_to_compare):\n",
    "    n=100\n",
    "    alice_bits = randint(2, size=n)\n",
    "    ## Step 2\n",
    "    alice_bases = randint(2, size=n)\n",
    "    message = encode_message(alice_bits, alice_bases)\n",
    "    \n",
    "    ## Noise\n",
    "    message = apply_noise(message, noise_p)\n",
    "    \n",
    "    ## Step 3\n",
    "    bob_bases = randint(2, size=n)\n",
    "    bob_results = measure_message(message, bob_bases)\n",
    "    \n",
    "    ## Step 4\n",
    "    bob_key = remove_garbage(alice_bases, bob_bases, bob_results)\n",
    "    alice_key = remove_garbage(alice_bases, bob_bases, alice_bits)\n",
    "    \n",
    "    ## Step 5\n",
    "    sample_size = min(bits_to_compare,len(bob_key))\n",
    "    bit_selection = sample(range(len(bob_key)), sample_size)\n",
    "    bob_sample = sample_bits(bob_key, bit_selection)\n",
    "    alice_sample = sample_bits(alice_key, bit_selection)\n",
    "    \n",
    "    return bob_sample != alice_sample"
   ]
  },
  {
   "cell_type": "markdown",
   "id": "subject-crash",
   "metadata": {},
   "source": [
    "To test that our model of noise produces the expected results, we run a several trials of BB84, applying noise as the qubits are sent from Alice to Bob using `apply_noise`. The overall proportion of Bob's key that does not match with Alice's key is calculated to see the effect of applying various noise probabilities (`noise_p`)."
   ]
  },
  {
   "cell_type": "code",
   "execution_count": 599,
   "id": "interior-accent",
   "metadata": {},
   "outputs": [
    {
     "data": {
      "text/plain": [
       "array([0.        , 0.04134102, 0.10777494, 0.16575387, 0.20512173,\n",
       "       0.23755169, 0.30895698, 0.37154622, 0.41258375, 0.47239561,\n",
       "       0.47413746, 0.55380914, 0.60908283, 0.65365012, 0.71836123,\n",
       "       0.75930196, 0.78666157, 0.84424589, 0.90126572, 0.94505095,\n",
       "       1.        ])"
      ]
     },
     "execution_count": 599,
     "metadata": {},
     "output_type": "execute_result"
    }
   ],
   "source": [
    "# Performs BB84 with noise over a range of different noise probabilities\n",
    "# Then measures how many bits in bob_key do not match alice_key\n",
    "# Giving the total proportion of errors in bob_key\n",
    "# Each noise_p is tested 30 times and results are averaged over all attempts\n",
    "n=100\n",
    "noise_p_list = np.arange(0.,1.01,0.05)\n",
    "noise_errors = np.zeros(len(noise_p_list))\n",
    "attempts = 30\n",
    "\n",
    "for j in range(len(noise_p_list)):\n",
    "    noise_p = noise_p_list[j]\n",
    "    \n",
    "    attempt_list=np.zeros(attempts)\n",
    "    for i in range(attempts):\n",
    "        alice_bits = randint(2, size=n)\n",
    "        ## Step 2\n",
    "        alice_bases = randint(2, size=n)\n",
    "        message = encode_message(alice_bits, alice_bases)\n",
    "\n",
    "        ## Noise\n",
    "        message = apply_noise(message, noise_p)\n",
    "\n",
    "        ## Step 3\n",
    "        bob_bases = randint(2, size=n)\n",
    "        bob_results = measure_message(message, bob_bases)\n",
    "\n",
    "        ## Step 4\n",
    "        bob_key = remove_garbage(alice_bases, bob_bases, bob_results)\n",
    "        alice_key = remove_garbage(alice_bases, bob_bases, alice_bits)\n",
    "        \n",
    "        for k in range(len(bob_key)):\n",
    "            attempt_list[i] += ((bob_key[k]!=alice_key[k])/len(bob_key))\n",
    "    \n",
    "    noise_errors[j] = sum(attempt_list)/attempts\n",
    "\n",
    "noise_errors"
   ]
  },
  {
   "cell_type": "code",
   "execution_count": 600,
   "id": "binding-analyst",
   "metadata": {},
   "outputs": [
    {
     "data": {
      "text/plain": [
       "<matplotlib.legend.Legend at 0x7fd8ce687c90>"
      ]
     },
     "execution_count": 600,
     "metadata": {},
     "output_type": "execute_result"
    },
    {
     "data": {
      "image/png": "[encoded data removed]",
      "text/plain": [
       "<Figure size 432x288 with 1 Axes>"
      ]
     },
     "metadata": {
      "needs_background": "light"
     },
     "output_type": "display_data"
    }
   ],
   "source": [
    "# Empirical data from above is plotted\n",
    "plt.plot(noise_p_list, noise_errors, label='Fraction Error in Key from Noise')\n",
    "plt.grid(True)\n",
    "plt.xlabel('Noise Probability')\n",
    "plt.ylabel('Fraction of Error in Key')\n",
    "plt.title('Figure 4.1')\n",
    "plt.legend()"
   ]
  },
  {
   "cell_type": "markdown",
   "id": "fabulous-compiler",
   "metadata": {},
   "source": [
    "As we see in Figure 4.1 above, the noise probability maps well to the proportion of Bob's key that differs from Alice's. Since a noise probability of $k$ causes $k$ of Bob's key to be in error, which is the desired outcome, we take this noise model to be suitable for our purposes.\n",
    "\n",
    "Another way to see the effect of noise is to look at how often it affects the sample compared by Alice and Bob after they generate their key. Below, we test how often noise is detected by Alice and Bob over a range of different `noise_p`. The results are plotted as the frequency that noise is detected in the sample verses the noise probability (`noise_p`) used. `bits_to_compare` can be varied below to change the sample size compared Alice and Bob, but the shape of the graph displayed in Figure 4.2 remains the same."
   ]
  },
  {
   "cell_type": "code",
   "execution_count": 606,
   "id": "separated-precipitation",
   "metadata": {},
   "outputs": [
    {
     "data": {
      "text/plain": [
       "array([0.  , 0.49, 0.78, 0.84, 0.96, 0.95, 0.99, 0.98, 1.  , 1.  , 1.  ,\n",
       "       1.  , 1.  , 1.  , 1.  , 1.  , 1.  , 1.  , 1.  , 1.  ])"
      ]
     },
     "execution_count": 606,
     "metadata": {},
     "output_type": "execute_result"
    }
   ],
   "source": [
    "# Tests whether noise is detected by Alice and Bob over a range of noise_p using is_noise_present\n",
    "# Each noise_p is tested 100 times and results are averaged over all attempts\n",
    "# Bits to compare is set as a constant 12\n",
    "noise_p_list = np.arange(0.,1.,0.05)\n",
    "noise_present = np.zeros(len(noise_p_list))\n",
    "attempts = 100\n",
    "bits_to_compare = 12\n",
    "\n",
    "for j in range(len(noise_p_list)):\n",
    "    noise_p = noise_p_list[j]\n",
    "    \n",
    "    attempt_list=np.zeros(attempts)\n",
    "    for i in range(attempts):\n",
    "        attempt_list[i]=is_noise_present(noise_p,bits_to_compare)\n",
    "    \n",
    "    noise_present[j] = sum(attempt_list)/attempts\n",
    "\n",
    "noise_present"
   ]
  },
  {
   "cell_type": "code",
   "execution_count": 607,
   "id": "desperate-vision",
   "metadata": {},
   "outputs": [
    {
     "data": {
      "text/plain": [
       "<matplotlib.legend.Legend at 0x7fd8d08a5a50>"
      ]
     },
     "execution_count": 607,
     "metadata": {},
     "output_type": "execute_result"
    },
    {
     "data": {
      "image/png": "[encoded data removed]",
      "text/plain": [
       "<Figure size 432x288 with 1 Axes>"
      ]
     },
     "metadata": {
      "needs_background": "light"
     },
     "output_type": "display_data"
    }
   ],
   "source": [
    "# Empirical simulation data from above is plotted\n",
    "plt.plot(noise_p_list, noise_present,label='Noise Detected')\n",
    "plt.grid(True)\n",
    "plt.xlabel('Noise Probability')\n",
    "plt.ylabel('Frequency of Noise Detected in Sample')\n",
    "plt.title('Figure 4.2')\n",
    "plt.legend()"
   ]
  },
  {
   "cell_type": "markdown",
   "id": "warming-scotland",
   "metadata": {},
   "source": [
    "Comparing these results with those from the Figure 3.3 across the row for 12 bits compared, we see that both figures show a fast increase from 0 towards 1 as noise probability/fraction intercepted by Eve increases, followed by a plateauing around 1 (the maximum frequency of detection, as a ratio of total trials). Ultimately, interception causes noise, which is what Alice and Bob try to detect, so this should not be of much surprise. We will now make the correspondence between interception and noise slightly more precise.\n",
    "\n",
    "Suppose Eve intercepts a fraction `f_int` of the total bits sent by Alice. This means that Eve has intercepted `f_int` of the key as well. We reached the conclusion in the previous section that the probability that a single intercepted bit has an error due to Eve (leading to her detection) is:\n",
    "\n",
    "> P(Eve detected over a single intercepted bit)=0.25\n",
    "\n",
    "Now, the probability that Eve has intercepted any given given bit is simply `f_int`, so the total probability that any given bit has an error due to Eve is\n",
    "\n",
    "> P(Error due to Eve) = $\\frac{\\text{f_int}}{4}$\n",
    "\n",
    "Below, we have separately tested two protocols for several trials:\n",
    "1. BB84 protocol with Eve intercepting `f_int` of the bits\n",
    "2. BB84 protocol applying noise with noise probability `noise_p`$=\\frac{\\text{f_int}}{4}$. <br>\n",
    "\n",
    "For each of these two cases, the fraction of Bob's key that does not match with Alice's is gathered across several different \"Error Percentages\", which are equal to `noise_p`$=\\frac{\\text{f_int}}{4}$, and the results are plotted in Figure 4.3."
   ]
  },
  {
   "cell_type": "code",
   "execution_count": 609,
   "id": "supposed-traffic",
   "metadata": {},
   "outputs": [
    {
     "data": {
      "text/plain": [
       "(array([0.        , 0.01051179, 0.02258166, 0.04150224, 0.04389669,\n",
       "        0.06997564, 0.07706209, 0.09134286, 0.10512065, 0.12042485,\n",
       "        0.14176428]),\n",
       " array([0.        , 0.0122674 , 0.02459584, 0.03530905, 0.04782322,\n",
       "        0.06232328, 0.06721493, 0.08773417, 0.0994345 , 0.11484363,\n",
       "        0.12943252]))"
      ]
     },
     "execution_count": 609,
     "metadata": {},
     "output_type": "execute_result"
    }
   ],
   "source": [
    "# Comparing Interception and Noise. \n",
    "# With Error Percentage = noise_p=f_int/4\n",
    "# A range of different noise_p and f_int such that noise_p=f_int/4 holds is tested\n",
    "# Two separate BB84 are conducted in each trial, \n",
    "# one with interception (f_int) only and the other with noise (noise_p=f_int/4) only\n",
    "# Total errors in the keys are calculated and compared\n",
    "# A total of 50 attempts are conducted for ever\n",
    "n=100\n",
    "f_int_list=np.arange(0,0.51,0.05)\n",
    "noise_p_list=f_int_list*0.25\n",
    "attempts=50\n",
    "int_error_pcts=np.zeros(len(f_int_list))\n",
    "noise_error_pcts=np.zeros(len(noise_p_list))\n",
    "\n",
    "for j in range(len(f_int_list)):\n",
    "    f_int = f_int_list[j]\n",
    "    \n",
    "    attempt_list=np.zeros(attempts)\n",
    "    for i in range(attempts):\n",
    "        alice_bits = randint(2, size=n)\n",
    "        ## Step 2\n",
    "        alice_bases = randint(2, size=n)\n",
    "        message = encode_message(alice_bits, alice_bases)\n",
    "\n",
    "        ## Eve interception\n",
    "        n_eve=int(f_int*n)\n",
    "        eve_bit_selection = sample(range(n), n_eve)\n",
    "        eve_bases = randint(2, size=n_eve)\n",
    "        intercepted_message = eve_measure_message(message, eve_bases, eve_bit_selection)\n",
    "\n",
    "        ## Step 3\n",
    "        bob_bases = randint(2, size=n)\n",
    "        bob_results = measure_message(message, bob_bases)\n",
    "\n",
    "        ## Step 4\n",
    "        bob_key = remove_garbage(alice_bases, bob_bases, bob_results)\n",
    "        alice_key = remove_garbage(alice_bases, bob_bases, alice_bits)\n",
    "        \n",
    "        for k in range(len(bob_key)):\n",
    "            attempt_list[i] += ((bob_key[k]!=alice_key[k])/len(bob_key))\n",
    "    \n",
    "    int_error_pcts[j] = sum(attempt_list)/attempts\n",
    "\n",
    "for j in range(len(noise_p_list)):\n",
    "    noise_p = noise_p_list[j]\n",
    "    \n",
    "    attempt_list=np.zeros(attempts)\n",
    "    for i in range(attempts):\n",
    "        alice_bits = randint(2, size=n)\n",
    "        ## Step 2\n",
    "        alice_bases = randint(2, size=n)\n",
    "        message = encode_message(alice_bits, alice_bases)\n",
    "\n",
    "        ## Noise\n",
    "        message = apply_noise(message, noise_p)\n",
    "\n",
    "        ## Step 3\n",
    "        bob_bases = randint(2, size=n)\n",
    "        bob_results = measure_message(message, bob_bases)\n",
    "\n",
    "        ## Step 4\n",
    "        bob_key = remove_garbage(alice_bases, bob_bases, bob_results)\n",
    "        alice_key = remove_garbage(alice_bases, bob_bases, alice_bits)\n",
    "        \n",
    "        for k in range(len(bob_key)):\n",
    "            attempt_list[i] += ((bob_key[k]!=alice_key[k])/len(bob_key))\n",
    "    \n",
    "    noise_error_pcts[j] = sum(attempt_list)/attempts\n",
    "\n",
    "(int_error_pcts, noise_error_pcts)"
   ]
  },
  {
   "cell_type": "code",
   "execution_count": 610,
   "id": "physical-rabbit",
   "metadata": {},
   "outputs": [
    {
     "data": {
      "text/plain": [
       "<matplotlib.legend.Legend at 0x7fd8cf994090>"
      ]
     },
     "execution_count": 610,
     "metadata": {},
     "output_type": "execute_result"
    },
    {
     "data": {
      "image/png": "[encoded data removed]",
      "text/plain": [
       "<Figure size 432x288 with 1 Axes>"
      ]
     },
     "metadata": {
      "needs_background": "light"
     },
     "output_type": "display_data"
    }
   ],
   "source": [
    "# Results from above are plotted\n",
    "plt.plot(noise_p_list, int_error_pcts, label='Fraction Error after Interception')\n",
    "plt.plot(noise_p_list, noise_error_pcts, label='Fraction Error after Noise')\n",
    "plt.grid(True)\n",
    "plt.xlabel('Error Percentage = Noise Probability = Fraction Intercepted / 4')\n",
    "plt.ylabel('Fraction of Error in Key')\n",
    "plt.title('Figure 4.3')\n",
    "plt.legend()"
   ]
  },
  {
   "cell_type": "markdown",
   "id": "cosmetic-miniature",
   "metadata": {},
   "source": [
    "The matching results displayed in Figure 4.3 from the two tested protocols confirm our posited connection between interception and noise: to Alice and Bob, an interceptor who intercepts some fraction $r$ of the bits looks very similar to noise that occurs with probability $\\frac{r}{4}$. The only difference (a very important one, for sure) is that the interception results in the interceptor gaining knowledge of some bits as well, whereas noise is an inherent environmental nuisance.\n",
    "\n",
    "These results also suggest that Eve may have a possible path to intercepting without being detected. If Eve were to intercept a small enough fraction of the total bits over a channel that is noisy enough (but not too noisy), she could potentially be masked by the noise, making it difficult for Alice and Bob to differentiate an interceptor from the channel's inherent noise. In the next section, we tackle the case of interception along a noisy channel."
   ]
  },
  {
   "cell_type": "markdown",
   "id": "historical-queen",
   "metadata": {},
   "source": [
    "## 5. Interception with Noise"
   ]
  },
  {
   "cell_type": "markdown",
   "id": "serious-beginning",
   "metadata": {},
   "source": [
    "In practice, every channel along which communication is conducted has noise. Depending on how noisy the channel is, an interceptor may be able to get away with intercepting some small fraction of bits. In this section, we develop the theory to implement interception across a noisy channel, and then apply this over ranges of different noise probabilities and fractions intercepted to see how well noise really masks and interceptor.\n",
    "\n",
    "Suppose an interceptor attempts to listen into a noisy channel. At what point does the noise come into play: before the interception, after the interception, or both? We will use the channel model below, where the following steps occur in succession as Alice's qubits are sent to Bob:\n",
    "\n",
    "1. Node 1: Noise is applied with `noise_p1`=$p_1$\n",
    "2. Node 2: Interceptor Eve intercepts a fraction `f_int` of the bits sent\n",
    "3. Node 3: Noise is applied with `noise_p2`=$p_2$\n",
    "\n",
    "Now, suppose for now that `f_int`$=0$. Then, the bits pass through only Nodes 1 and 3 above. If the total noise probability over the entire channel is `noise_p`$=p$, then we must have that the total probability that any bit is flipped exactly once over both Nodes 1 and 3 is $p$. This probability is given below:\n",
    "\n",
    "> P(Bit Flipped Once across Channel)$=p=p_1(1-p_2)+p_2(1-p_1)=p_1+p_2-2p_1p_2$\n",
    "\n",
    "Thus, if we set some $p_1$ for Node 1 and some overall noise probability $p$, then $p_2$ is completely specified by:\n",
    "\n",
    "> $p_2 = \\frac{p-p_1}{1-2p_1}$\n",
    "\n",
    "Furthermore, we can use the probability constraint that $0\\leq p_2\\leq1$ to further narrow the possible pairs $(p_1,p_2)$ down. This constraint suggests that:\n",
    "\n",
    "1. When $p_1\\leq\\frac{1}{2}$, $p_1\\leq min(p,1-p)$.\n",
    "2. When $p_1\\geq\\frac{1}{2}$, $p_1\\geq max(p,1-p)$.\n",
    "\n",
    "By symmetry, the same applies to $p_2$. Thus, we may take any $p_1$ in the range $[0,1]-(min(p,1-p),max(p,1-p))$, and find $p_2$ from the formula derived above. The model constructed above then uses these $p_1$ and $p_2$ in Nodes 1 and 3, respectively. Applying the routine delineated by Nodes 1-3 above over a range of acceptable $p_1$ (and hence, a range of $p_2$ as well) and averaging whatever results we desire over all trials should give us a good feel for the interceptor listening into the channel at some arbitrary point in the channel.\n",
    "\n",
    "In the function `get_avg_key_error`, we apply the method described above, taking some `f_int` and `noise_p`, and finding some suitable `noise_p1`, `noise_p2` pairs from the input `noise_p`. In each trial (for each pair `noise_p1`, `noise_p2`), the 3 nodes are applied as Alice sends her qubits to Bob. The error in Bob's key is calculated as a fraction of the total key, and averaged over all `noise_p1`, `noise_p2` pairs. The results are plotted in a heatplot in Figure 5.1, with fraction of error in keys shown versus the fraction of bits intercepted and overall noise probability."
   ]
  },
  {
   "cell_type": "code",
   "execution_count": 611,
   "id": "terminal-eating",
   "metadata": {},
   "outputs": [
    {
     "data": {
      "text/plain": [
       "0.06884015982473621"
      ]
     },
     "execution_count": 611,
     "metadata": {},
     "output_type": "execute_result"
    }
   ],
   "source": [
    "# Eve + Noise\n",
    "# A certain noise_p is broken into noise_p1, applied before interception, and noise_p2, applied after interception\n",
    "# Error in Bob's key compared to Alice's key at the end of a BB84 protocol\n",
    "\n",
    "def get_avg_key_error(f_int, noise_p):\n",
    "    n=100\n",
    "    x=min(noise_p,1-noise_p)\n",
    "    attempts=20\n",
    "    \n",
    "    # Finds an appropriate list of 20 possible noise_p1, given noise_p\n",
    "    if (noise_p>1 or f_int>1):\n",
    "        return 1\n",
    "    elif (noise_p==0.5):\n",
    "        noise_p_list=[0.5]\n",
    "    elif (noise_p==0):\n",
    "        noise_p_list=[0]\n",
    "    elif (noise_p==1):\n",
    "        noise_p_list=[1]\n",
    "    else:\n",
    "        noise_p_list=np.concatenate([np.arange(0,x,x/((attempts/2)-1)),[x],np.arange(1-x,1,x/((attempts/2)-1))])\n",
    "    \n",
    "    num_errors_list=np.zeros(len(noise_p_list))\n",
    "    percent_errors_list=np.zeros(len(noise_p_list))\n",
    "    \n",
    "    # For each of the possible noise_p1..\n",
    "    for i in range(len(noise_p_list)):\n",
    "        # Find appropraite noise_p2 given noise_p1\n",
    "        p=noise_p_list[i]\n",
    "        noise_p1=p\n",
    "        if(p==0.5):\n",
    "            noise_p2=0.5\n",
    "        else:\n",
    "            noise_p2=((noise_p-p)/(1-(2*p)))\n",
    "        \n",
    "        # Conducted BB84 with noise and interception, as per the model described in markdown above\n",
    "        \n",
    "        alice_bits = randint(2, size=n)\n",
    "        ## Step 2\n",
    "        alice_bases = randint(2, size=n)\n",
    "        message = encode_message(alice_bits, alice_bases)\n",
    "\n",
    "        ## Noise\n",
    "        message = apply_noise(message, noise_p1)\n",
    "\n",
    "        ## Interception\n",
    "        n_eve=int(f_int*n)\n",
    "        eve_bit_selection = sample(range(n), n_eve)\n",
    "        eve_bases = randint(2, size=n_eve)\n",
    "        intercepted_message = eve_measure_message(message, eve_bases, eve_bit_selection)\n",
    "\n",
    "        ## Noise again\n",
    "        message = apply_noise(message, noise_p2)\n",
    "\n",
    "        ## Step 3\n",
    "        bob_bases = randint(2, size=n)\n",
    "        bob_results = measure_message(message, bob_bases)\n",
    "\n",
    "        ## Step 4\n",
    "        bob_key = remove_garbage(alice_bases, bob_bases, bob_results)\n",
    "        alice_key = remove_garbage(alice_bases, bob_bases, alice_bits)\n",
    "        \n",
    "        for j in range(len(bob_key)):\n",
    "            num_errors_list[i] += (bob_key[j]!=alice_key[j]) # Find number of errors in key\n",
    "        \n",
    "        percent_errors_list[i] = num_errors_list[i]/len(bob_key) # Fraction error in key\n",
    "    \n",
    "    return sum(percent_errors_list)/len(noise_p_list) # Average fraction of error in key over all tested (noise_p1, noise_p2) pairs\n",
    "\n",
    "get_avg_key_error(0.1,0.05)"
   ]
  },
  {
   "cell_type": "code",
   "execution_count": 614,
   "id": "timely-norfolk",
   "metadata": {},
   "outputs": [
    {
     "data": {
      "text/plain": [
       "array([[0.        , 0.04347826, 0.        , 0.08      , 0.03636364,\n",
       "        0.0952381 , 0.13461538, 0.12727273, 0.09615385, 0.05357143,\n",
       "        0.11363636],\n",
       "       [0.04960866, 0.05981087, 0.08369427, 0.07284235, 0.08523775,\n",
       "        0.09419899, 0.1126809 , 0.1273515 , 0.1517974 , 0.14803698,\n",
       "        0.16534221],\n",
       "       [0.10831032, 0.09331752, 0.12827649, 0.12307432, 0.14119999,\n",
       "        0.15432964, 0.18346011, 0.18674035, 0.199909  , 0.1887992 ,\n",
       "        0.20725802],\n",
       "       [0.17649556, 0.14802711, 0.17615364, 0.18058507, 0.16747829,\n",
       "        0.18023104, 0.19141799, 0.20169076, 0.2025735 , 0.23014632,\n",
       "        0.21939464],\n",
       "       [0.21180501, 0.18236483, 0.21797138, 0.21141941, 0.24365219,\n",
       "        0.22928968, 0.23940507, 0.29201369, 0.28013413, 0.26390221,\n",
       "        0.26695506],\n",
       "       [0.22668816, 0.27883381, 0.27598618, 0.28332998, 0.28840841,\n",
       "        0.28532057, 0.27871275, 0.28320338, 0.31341381, 0.29117303,\n",
       "        0.31583537],\n",
       "       [0.30739085, 0.27495391, 0.30029072, 0.30797361, 0.33951529,\n",
       "        0.33053264, 0.3110494 , 0.36447436, 0.35524361, 0.35720479,\n",
       "        0.33726869],\n",
       "       [0.35716609, 0.35777424, 0.38335139, 0.362051  , 0.41047784,\n",
       "        0.34975445, 0.36837132, 0.3736333 , 0.38946609, 0.36358937,\n",
       "        0.37349087],\n",
       "       [0.40885812, 0.4290462 , 0.41197623, 0.40037365, 0.41574624,\n",
       "        0.40604324, 0.38777575, 0.39001216, 0.40992449, 0.40713552,\n",
       "        0.42274589],\n",
       "       [0.44565829, 0.4703949 , 0.45605321, 0.45565767, 0.45692029,\n",
       "        0.45034023, 0.50018549, 0.47717227, 0.46962738, 0.46873117,\n",
       "        0.44184252],\n",
       "       [0.4047619 , 0.48      , 0.53571429, 0.42592593, 0.3877551 ,\n",
       "        0.42857143, 0.42307692, 0.44897959, 0.40384615, 0.56521739,\n",
       "        0.55357143]])"
      ]
     },
     "execution_count": 614,
     "metadata": {},
     "output_type": "execute_result"
    }
   ],
   "source": [
    "import pandas as pd\n",
    "import seaborn as sns\n",
    "\n",
    "# Do the above process over a range of different f_int's, noise_p's\n",
    "# Calculate percent_key_errors for each pair using the above function\n",
    "f_int_list=np.arange(0,0.51,0.05)\n",
    "noise_p_list=np.arange(0,0.51,0.05)\n",
    "percent_key_errors = np.ones((len(noise_p_list),len(f_int_list)))\n",
    "\n",
    "for i in range(len(noise_p_list)):\n",
    "    for j in range(len(f_int_list)):\n",
    "        percent_key_errors[i][j]=get_avg_key_error(f_int_list[j],noise_p_list[i])\n",
    "\n",
    "percent_key_errors"
   ]
  },
  {
   "cell_type": "code",
   "execution_count": 615,
   "id": "direct-frequency",
   "metadata": {},
   "outputs": [
    {
     "data": {
      "image/png": "[encoded data removed]",
      "text/plain": [
       "<Figure size 640x480 with 2 Axes>"
      ]
     },
     "metadata": {
      "needs_background": "light"
     },
     "output_type": "display_data"
    }
   ],
   "source": [
    "# Plot the data calculated in trials above using a heatplot\n",
    "np_rounded=[round(p,2) for p in noise_p_list]\n",
    "fi_rounded=[round(f,2) for f in f_int_list]\n",
    "plt.figure(figsize=(8, 6), dpi=80)\n",
    "data=pd.DataFrame(percent_key_errors,index=fi_rounded,columns=np_rounded)\n",
    "ax=sns.heatmap(data, cmap = sns.cm.rocket_r, cbar_kws={'label': 'Fraction of Error in Keys'})\n",
    "ax.figure.axes[-1].yaxis.label.set_size(16)\n",
    "ax.invert_yaxis()\n",
    "ax.title.set_text('Figure 5.1')\n",
    "plt.ylabel(\"Noise Probability\", size=16)\n",
    "plt.xlabel(\"Fraction of Bits Intercepted\", size=16)\n",
    "plt.show()"
   ]
  },
  {
   "cell_type": "markdown",
   "id": "cooperative-screening",
   "metadata": {},
   "source": [
    "Figure 5.1 again confirms what we have anticipated. At low noise, there is generally a clear gradient as Eve intercepts a higher fraction of bits, showing that more error clearly occurs in the keys as Eve intercepts more bits. This ultimately allows Alice and Bob to better distinguish whether there is an interceptor or not, since a noticeable increase in noise from the baseline is then probably due to outside influence from an interceptor. However, at higher noises, such as a noise probability of 0.4, the fraction of error in the keys varies wildly as Eve intercepts more bits. With such a high noise probability, it is almost impossible to be confident whether an interceptor is present due to the overall noise masking noise incurred by Eve. Of course, such a noisy channel is almost never used in practice, but is instructive to investigate.\n",
    "\n",
    "To make the notion just described a little more precise, the fraction of error in the keys is plotted versus the fraction of bits Eve intercepted on the 3 different plots below, each at different noise levels: low noise (5% noise probability), medium noise (20% noise probability), and high noise (40% noise probability). Linear regression is conducted to find and plot lines of best fit as well."
   ]
  },
  {
   "cell_type": "code",
   "execution_count": 618,
   "id": "agricultural-drive",
   "metadata": {},
   "outputs": [
    {
     "data": {
      "image/png": "[encoded data removed]",
      "text/plain": [
       "<Figure size 1080x216 with 3 Axes>"
      ]
     },
     "metadata": {
      "needs_background": "light"
     },
     "output_type": "display_data"
    }
   ],
   "source": [
    "# Investigate 3 separate rows of the heatplot data above\n",
    "# Using best fit lines and correlation\n",
    "# To see how easily an interceptor is detected at different levels of noise\n",
    "low_noise_errors=percent_key_errors[1,:]    # 5% noise\n",
    "mid_noise_errors=percent_key_errors[4,:]    # 20% noise\n",
    "high_noise_errors=percent_key_errors[8,:]    # 40% noise\n",
    "\n",
    "fig, ax = plt.subplots(nrows=1, ncols=3, figsize=(15, 3))\n",
    "\n",
    "ax[0].plot(fi_rounded,low_noise_errors,'rx')\n",
    "m0, b0 = np.polyfit(fi_rounded,low_noise_errors, 1)\n",
    "best_fit0=[m0*fi+b0 for fi in fi_rounded]\n",
    "r0=np.corrcoef(fi_rounded,low_noise_errors)[0,1]\n",
    "ax[0].title.set_text('Fig. 5.2a: Low Noise Probability (5%)')\n",
    "ax[0].plot(fi_rounded, best_fit0, 'r--',label=\"Best Fit with Correlation: \" + str(round(r0,2)))\n",
    "ax[0].legend()\n",
    "\n",
    "ax[1].plot(fi_rounded,mid_noise_errors,'bx')\n",
    "m1, b1 = np.polyfit(fi_rounded,mid_noise_errors, 1)\n",
    "best_fit1=[m1*fi+b1 for fi in fi_rounded]\n",
    "r1=np.corrcoef(fi_rounded,mid_noise_errors)[0,1]\n",
    "ax[1].title.set_text('Fig. 5.2b:Medium Noise Probability (20%)')\n",
    "ax[1].plot(fi_rounded, best_fit1, 'b--', label=\"Best Fit with Correlation: \" + str(round(r1,2)))\n",
    "ax[1].legend()\n",
    "\n",
    "ax[2].plot(fi_rounded,high_noise_errors,'gx')\n",
    "m2, b2 = np.polyfit(fi_rounded,high_noise_errors, 1)\n",
    "best_fit2=[m2*fi+b2 for fi in fi_rounded]\n",
    "r2=np.corrcoef(fi_rounded,high_noise_errors)[0,1]\n",
    "ax[2].title.set_text('Fig. 5.2c: High Noise Probability (40%)')\n",
    "ax[2].plot(fi_rounded, best_fit2, 'g--', label=\"Best Fit with Correlation: \" + str(round(r2,2)))\n",
    "ax[2].legend()\n",
    "\n",
    "plt.setp(ax[:], xlabel='Fraction of Bits Eve Intercepted')\n",
    "plt.setp(ax[:], ylabel='Fraction of Error in Keys')\n",
    "\n",
    "plt.show()"
   ]
  },
  {
   "cell_type": "markdown",
   "id": "destroyed-uncertainty",
   "metadata": {},
   "source": [
    "Figure 5.2 clearly indicates the difference in detectability of Eve across various noise probabilities. At low and even medium noise probabilities (Figure 5.2a,b), the correlation coefficient indicates a great correlation between fraction of bits intercepted by Eve and the fraction of error in the keys. Thus, an interceptor will tend to introduce more noise in almost all cases, and a greater amount of noise can be linked to the presence of an interceptor with high confidence. On the other hand, at high noise probabilities (Figure 5.2c), the correlation coefficient indicates almost no correlation between fraction of bits intercepted by Eve and the fraction of error in the keys. In several cases, there was even less error when Eve intercepted bits than there was at the baseline without interception. Thus, an interceptor cannot really be detected with any confidence at this level of noise. As stated earlier, if such a channel is treated as acceptable, and Eve intercepts bits early in the channel prior to noise error accumulation, Eve could certainly gather a lot of information about Alice's key.\n",
    "\n",
    "These data only add to the long list of reasons why reducing noise, especially in quantum systems, is so important and highly researched. Fortunately, such noisy channels are generally not acceptable, and even if they were, there are measures to protect against errors and interceptors, as will be discussed in the next section."
   ]
  },
  {
   "cell_type": "markdown",
   "id": "korean-aircraft",
   "metadata": {},
   "source": [
    "## 6. Protecting Against Interceptors and Errors"
   ]
  },
  {
   "cell_type": "markdown",
   "id": "confused-prince",
   "metadata": {},
   "source": [
    "As detailed in the previous sections, although we have a relatively nice way to detect interceptors and noise via error detection, we have not discussed any methods or algorithms used to protect against these menaces yet. There are many of such algorithms about, but in this report we will investigate the effectiveness of one specific error elimination protocol and another privacy amplification protocol from [5], both of which use the commonly employed classical method of comparing bit parities. Both protocols are carried out after the BB84 protocol by Alice and Bob on their respective keys.\n",
    "\n",
    "The error elimination protocol is as follows [5]:\n",
    "1. Alice and Bob communicate which bits to pair together and compute each pair's parity.\n",
    "2. Alice and Bob compare parities.\n",
    "3. If Alice's and Bob's parity do not match for a certain bit pair, both of those bits are discarded by both parties.\n",
    "4. Repeat this process until the expected number of errors is less than 1.\n",
    "\n",
    "The privacy amplification protocol is as follows [5]:\n",
    "1. Alice and Bob communicate which bits to pair together and compute each pair's parity.\n",
    "2. Use these parities as the new bits in the key.\n",
    "3. Repeat this process until the expected number of bits known by Eve is less than 1.\n",
    "\n",
    "Typically, privacy amplification is performed after the error elimination protocol [5]. To use these protocols, we must first calculate the initial expected number of errors and expected number of bits known by Eve after error elimination. The initial expected number of errors can be calculated as follows. Consider our channel model from Section 5, with noise and interception. The nodes in the model are reproduced below:\n",
    "\n",
    "1. Node 1: Noise is applied with `noise_p1`=$p_1$\n",
    "2. Node 2: Interceptor Eve intercepts a fraction `f_int`=$f$ of the bits sent\n",
    "3. Node 3: Noise is applied with `noise_p2`=$p_2$\n",
    "\n",
    "For any given bit, Eve can either not intercept the bit (probability $1-f$), measure the bit in the right basis (probability $\\frac{f}{2}$), or measure the bit in the wrong basis $\\frac{f}{2}$. Either of the former two outcomes results in Eve not changing the bit (probability $1-\\frac{f}{2}$), but the latter outcomes necessarily changes the bit (probability $\\frac{f}{2}$). \n",
    "\n",
    "If Eve does not change the bit to a new basis, then noise proceeds as normal, so the probability that the given bit has error (flipped exactly once) is $p_1(1-p_2)+p_2(1-p_1)=p$. This error is measured by Bob if Bob chooses the right basis. The total probability that these outcomes happen to any given bit is $p(1-\\frac{f}{2})$.\n",
    "\n",
    "If Eve _does_ change the bit to a new basis, then it does not matter if or when our particular noise is applied; Bob will necessarily measure an incorrect bit 50% of the time in the correct basis. The total probability that these events occur is $\\frac{f}{4}$.\n",
    "\n",
    "Now, if Bob's key has length $L$, then his key contains an expected number of errors $E_0$ of\n",
    "\n",
    "> $E_0 = L(p-\\frac{pf}{2}+\\frac{f}{4})$\n",
    "\n",
    "In our version of error elimination, after each iteration of the method, we multiply the expected errors $E_0$ by a multiplicative factor of $p+f-pf$, which is guaranteed to be between 0 and 1 and produces the correct result in the case when either $p=0$ or $f=0$. This gives us $E_1=(p+f-pf)E_0$. Note that this is simply a postulation, and results of the protocol are satisfactory enough to accept it. The protocol ends when we iterate enough times such that $E_n<1$.\n",
    "\n",
    "For privacy amplification, we need to calculate the total expected bits known to Eve after the error elimination. These are the bits known to Eve that did not induce errors. When Eve intercepts and does not change the bit, she measures the correct outcome 100% of the time and matches that of Bob's and Alice's, as long as both Node 1 and Node 2 do not interfere. These composite outcomes occur with probability $\\frac{f}{2}(1-p_1)(1-p_2)$, but to simplify the code and calculations, we take an upper bound of $\\frac{f}{2}(1-p)$, which occurs when either $p_1=0$ or $p_2=0$. Taking upper bounds can only make the amplification process stronger as we increase the amount of expected successfully intercepted bits, so this is not of concern to us. \n",
    "\n",
    "Another way for Eve to know a bit that matches both Bob's and Alice's (one that skirts error elimination) is for Eve to use the wrong basis, end up measuring the correct value, and for Bob to luckily end up measuring the correct value as well in the wrong basis. Overall, the probability that Eve uses the wrong basis and Bob still measuring the correct value in the right basis (same basis as Alice) is $\\frac{f}{4}$. The probability that Eve measures the correct value in this case is 50%, so the total probability is $\\frac{f}{8}$.\n",
    "\n",
    "Combining these two, if Bob's key is length $L$, the overall number of those bits known to Eve after error elimination $K_0$ is given by:\n",
    "\n",
    "> $K_0 \\approx L[\\frac{f}{2}(1-p)+\\frac{f}{8}]$\n",
    "\n",
    "After each iteration of the privacy amplification algorithm, we multiply $K_0$ by the factor of $f$, which again is the correct multiplicative factor in the case of no noise, but also provides an effective upper bound in the case where noise is present. This multiplication give us $K_1=fK_0$, which is used as the expected number of bits known in the next iteration. The protocol ends when we iterate enough times such that $K_n<1$.\n",
    "\n",
    "The functions below implement the two protocols described above, using the theory developed to perform a sufficient number of iterations."
   ]
  },
  {
   "cell_type": "code",
   "execution_count": 10,
   "id": "green-citizenship",
   "metadata": {},
   "outputs": [],
   "source": [
    "# Generates pairs of indices given bits. Parities will be computed between bits at these indeices.\n",
    "def generate_index_pairs(bits):\n",
    "    n=len(bits)\n",
    "    index_pairs=[]\n",
    "    rsamp=sample(range(n),n)\n",
    "    for i in range(int(n/2)):\n",
    "        index_pairs.append([rsamp[2*i],rsamp[(2*i)+1]])\n",
    "    if(n%2): \n",
    "        index_pairs.append([rsamp[n-1]])\n",
    "    \n",
    "    return index_pairs\n",
    "\n",
    "# Pairs bits based on index pairs generated by generate_index_pairs\n",
    "def pair_bits(bits, index_pairs):\n",
    "    bit_pairs=[]\n",
    "    for arr in index_pairs:\n",
    "        if(len(arr)!=2):\n",
    "            bit_pairs.append([1])\n",
    "        else:\n",
    "            bit_pairs.append([bits[arr[0]],bits[arr[1]]])\n",
    "    \n",
    "    return bit_pairs\n",
    "\n",
    "# Parities computed between bit pairs generated by pair_bits\n",
    "def compute_parities(bit_pairs):\n",
    "    parities=[]\n",
    "    for arr in bit_pairs:\n",
    "        if(len(arr)!=2):\n",
    "            parities.append(1)\n",
    "        else:\n",
    "            parities.append(arr[0]^arr[1])\n",
    "\n",
    "    return parities\n",
    "\n",
    "# Removes pairs of bits from a_bits and b_bits if the parities of those two bits do not match between Alice and Bob\n",
    "def remove_pairs_by_parity(index_pairs,a_bits,a_parities,b_bits,b_parities):\n",
    "    indexes_to_remove=[]\n",
    "    for i in range(len(a_parities)):\n",
    "        if(a_parities[i]!=b_parities[i]):\n",
    "            indexes_to_remove+=index_pairs[i]\n",
    "    \n",
    "    \n",
    "    return (np.delete(a_bits,indexes_to_remove),np.delete(b_bits,indexes_to_remove))\n",
    "\n",
    "# Error Elimination Protocol described in the theory presented in markdown above\n",
    "def eliminate_errors(a_key, b_key, noise_p=0, f_int=0):\n",
    "    n=100\n",
    "    \n",
    "    a_bits=a_key\n",
    "    b_bits=b_key\n",
    "    error_p = (noise_p-(noise_p*f_int/2)+(f_int/4))\n",
    "    improvement_per_iteration = noise_p + f_int - (noise_p*f_int)\n",
    "    expected_errors=len(a_bits)*error_p\n",
    "    \n",
    "    if((error_p>1) or (error_p<0)):\n",
    "        return (a_bits,b_bits)\n",
    "    elif((error_p==1)):\n",
    "        return ([],[])\n",
    "    \n",
    "    while(expected_errors>=1):\n",
    "        index_pairs=generate_index_pairs(a_bits)\n",
    "        a_pairs=pair_bits(a_bits,index_pairs)\n",
    "        b_pairs=pair_bits(b_bits,index_pairs)\n",
    "        a_parities=compute_parities(a_pairs)\n",
    "        b_parities=compute_parities(b_pairs)\n",
    "        bits=remove_pairs_by_parity(index_pairs,a_bits,a_parities,b_bits,b_parities)\n",
    "        a_bits=bits[0]\n",
    "        b_bits=bits[1]\n",
    "        expected_errors *= improvement_per_iteration\n",
    "    \n",
    "    return (a_bits,b_bits)\n",
    "\n",
    "# Privacy Amplification Protocol described in the theory presented in markdown above\n",
    "def amplify_privacy(a_key, b_key, noise_p=0, f_int=0, after_error_elim=1):\n",
    "    n=100\n",
    "    \n",
    "    if(after_error_elim):\n",
    "        a_bits=a_key\n",
    "        b_bits=b_key\n",
    "    else:\n",
    "        (a_bits,b_bits) = eliminate_errors(a_key, b_key, noise_p, f_int)\n",
    "    \n",
    "    known_p = ((f_int*(1-noise_p)/2) + (f_int/8))\n",
    "    improvement_per_iteration = f_int\n",
    "    expected_known = len(a_bits)*known_p\n",
    "    \n",
    "    if((known_p>1) or (known_p<0)):\n",
    "        return (a_bits,b_bits)\n",
    "    elif((known_p==1)):\n",
    "        return ([],[])\n",
    "    \n",
    "    while(expected_known>=1):\n",
    "        index_pairs=generate_index_pairs(a_bits)\n",
    "        a_pairs=pair_bits(a_bits,index_pairs)\n",
    "        b_pairs=pair_bits(b_bits,index_pairs)\n",
    "        a_bits=compute_parities(a_pairs)\n",
    "        b_bits=compute_parities(b_pairs)\n",
    "        expected_known *= improvement_per_iteration\n",
    "    \n",
    "    return (a_bits,b_bits)"
   ]
  },
  {
   "cell_type": "code",
   "execution_count": 625,
   "id": "noted-johnson",
   "metadata": {},
   "outputs": [
    {
     "data": {
      "text/plain": [
       "True"
      ]
     },
     "execution_count": 625,
     "metadata": {},
     "output_type": "execute_result"
    }
   ],
   "source": [
    "n=100\n",
    "f_int=0.05\n",
    "alice_bits = randint(2, size=n)\n",
    "alice_bases = randint(2, size=n)\n",
    "message = encode_message(alice_bits, alice_bases)\n",
    "\n",
    "## Interception: A fraction is intercepted.\n",
    "n_eve=int(f_int*n)\n",
    "eve_bit_selection = sample(range(n), n_eve)\n",
    "eve_bases = randint(2, size=n_eve)\n",
    "intercepted_message = eve_measure_message(message, eve_bases, eve_bit_selection)\n",
    "\n",
    "bob_bases = randint(2, size=n)\n",
    "bob_results = measure_message(message, bob_bases)\n",
    "\n",
    "bob_key = remove_garbage(alice_bases, bob_bases, bob_results)\n",
    "alice_key = remove_garbage(alice_bases, bob_bases, alice_bits)\n",
    "\n",
    "# Conduct error elimination and privacy amplification\n",
    "(alice_error_corrected, bob_error_corrected)=eliminate_errors(alice_key,bob_key,noise_p=0,f_int=f_int)\n",
    "(alice_final, bob_final)=amplify_privacy(alice_error_corrected,bob_error_corrected,noise_p=0,f_int=f_int,after_error_elim=1)\n",
    "\n",
    "alice_final==bob_final"
   ]
  },
  {
   "cell_type": "markdown",
   "id": "graphic-notebook",
   "metadata": {},
   "source": [
    "The error elimination and privacy amplification protocols are useful in a wide variety of scenarios, a few of which have been tested below. First, we look at the case in which there is no noise, but Eve intercepts some fraction of the qubits sent by Alice to Bob. The BB84 protocol is carried out, followed by Alice and Bob going through the error elimination and privacy amplification protocols as well. Several trials were conducted over a range of different fractions intercepted. The numbers of bits and errors in the keys before and after the two correction protocols are plotted against the fraction of bits intercepted and plotted in Figure 6.1 below."
   ]
  },
  {
   "cell_type": "code",
   "execution_count": 626,
   "id": "successful-phrase",
   "metadata": {},
   "outputs": [
    {
     "data": {
      "text/plain": [
       "(array([49.8  , 50.275, 51.925, 50.275, 48.95 , 49.65 , 49.275, 51.175,\n",
       "        51.025, 51.35 , 48.25 , 49.275, 50.325, 49.65 , 50.875, 51.3  ,\n",
       "        50.175, 49.575, 51.025, 50.375]),\n",
       " array([49.8  , 25.4  , 25.025, 22.95 , 11.3  , 11.5  , 10.075,  5.85 ,\n",
       "         5.225,  3.225,  2.675,  1.675,  1.   ,  1.   ,  1.   ,  1.   ,\n",
       "         1.   ,  1.   ,  1.   ,  1.   ]),\n",
       " array([ 0.   ,  0.725,  1.225,  2.15 ,  2.675,  2.7  ,  4.   ,  4.7  ,\n",
       "         6.075,  5.35 ,  5.675,  6.825,  7.625,  7.975,  9.7  ,  9.3  ,\n",
       "        10.1  , 10.5  , 11.375, 11.2  ]),\n",
       " array([0.   , 0.7  , 0.05 , 0.1  , 0.075, 0.175, 0.05 , 0.   , 0.   ,\n",
       "        0.   , 0.   , 0.   , 0.   , 0.   , 0.   , 0.   , 0.   , 0.   ,\n",
       "        0.   , 0.   ]))"
      ]
     },
     "execution_count": 626,
     "metadata": {},
     "output_type": "execute_result"
    }
   ],
   "source": [
    "# Error Elimination and Privacy Amplification after Eve's interception\n",
    "# Tested over a range of different f_int\n",
    "# Total numbers of bits and errors right before the two protocols and right after both protocols are computed\n",
    "# in each trial\n",
    "# A total of 40 trials per f_int\n",
    "f_int_list = np.arange(0.,1.,0.05)\n",
    "num_bits_before = np.zeros(len(f_int_list))\n",
    "num_bits_after = np.zeros(len(f_int_list))\n",
    "num_errors_before = np.zeros(len(f_int_list))\n",
    "num_errors_after = np.zeros(len(f_int_list))\n",
    "attempts = 40\n",
    "\n",
    "for j in range(0,len(f_int_list)):\n",
    "    f_int = f_int_list[j]\n",
    "    \n",
    "    num_bits_before_list = np.zeros(attempts)\n",
    "    num_errors_before_list = np.zeros(attempts)\n",
    "    num_bits_after_list = np.zeros(attempts)\n",
    "    num_errors_after_list = np.zeros(attempts)\n",
    "    for i in range(0,attempts):\n",
    "        n=100\n",
    "        alice_bits = randint(2, size=n)\n",
    "        alice_bases = randint(2, size=n)\n",
    "        message = encode_message(alice_bits, alice_bases)\n",
    "        ## Interception: A fraction is intercepted. If f_int is not specified, default is 1\n",
    "        n_eve=int(f_int*n)\n",
    "        eve_bit_selection = sample(range(n), n_eve)\n",
    "        eve_bases = randint(2, size=n_eve)\n",
    "        intercepted_message = eve_measure_message(message, eve_bases, eve_bit_selection)\n",
    "        ## Step 3\n",
    "        bob_bases = randint(2, size=n)\n",
    "        bob_results = measure_message(message, bob_bases)\n",
    "        ## Step 4\n",
    "        bob_key = remove_garbage(alice_bases, bob_bases, bob_results)\n",
    "        alice_key = remove_garbage(alice_bases, bob_bases, alice_bits)\n",
    "        (alice_error_corrected, bob_error_corrected)=eliminate_errors(alice_key,bob_key,noise_p=0,f_int=f_int)\n",
    "        (alice_final, bob_final)=amplify_privacy(alice_error_corrected,bob_error_corrected,noise_p=0,f_int=f_int,after_error_elim=1)\n",
    "        \n",
    "        num_bits_before_list[i] = len(alice_key)\n",
    "        num_bits_after_list[i] = len(alice_final)\n",
    "        for k in range(len(alice_key)):\n",
    "            if alice_key[k]!=bob_key[k]:\n",
    "                num_errors_before_list[i]+=1\n",
    "        for k in range(len(alice_final)):\n",
    "            if alice_final[k]!=bob_final[k]:\n",
    "                num_errors_after_list[i]+=1\n",
    "                \n",
    "    num_bits_before[j] = sum(num_bits_before_list)/attempts\n",
    "    num_errors_before[j] = sum(num_errors_before_list)/attempts\n",
    "    num_bits_after[j] = sum(num_bits_after_list)/attempts\n",
    "    num_errors_after[j] = sum(num_errors_after_list)/attempts\n",
    "\n",
    "(num_bits_before, num_bits_after, num_errors_before, num_errors_after)"
   ]
  },
  {
   "cell_type": "code",
   "execution_count": 627,
   "id": "behind-worker",
   "metadata": {},
   "outputs": [
    {
     "data": {
      "text/plain": [
       "<matplotlib.legend.Legend at 0x7fd8ce6e3d90>"
      ]
     },
     "execution_count": 627,
     "metadata": {},
     "output_type": "execute_result"
    },
    {
     "data": {
      "image/png": "[encoded data removed]",
      "text/plain": [
       "<Figure size 432x288 with 1 Axes>"
      ]
     },
     "metadata": {
      "needs_background": "light"
     },
     "output_type": "display_data"
    }
   ],
   "source": [
    "# Data from above is plotted in Figure 6.1\n",
    "plt.plot(f_int_list, num_bits_before, label='Total Bits Before')\n",
    "plt.plot(f_int_list, num_errors_before, label='Total Errors Before')\n",
    "plt.plot(f_int_list, num_bits_after, label='Total Bits After')\n",
    "plt.plot(f_int_list, num_errors_after, label='Total Errors After')\n",
    "plt.grid(True)\n",
    "plt.xlabel('Fraction of Bits Intercepted')\n",
    "plt.ylabel('Number of Bits/Errors')\n",
    "plt.title('Figure 6.1')\n",
    "plt.legend()"
   ]
  },
  {
   "cell_type": "markdown",
   "id": "sixth-convenience",
   "metadata": {},
   "source": [
    "Figure 6.1 shows the previously seen results for total bits and errors in the keys before error elimination and privacy amplification: without these two protocols, the total bits in the keys are approximately half that of the total bits received by Bob, and as the fraction of qubits intercepted increases, we see that the number of errors increases out of these bits increases as well. However, after the two protocols are carried out, we see that error is successfully eliminated (very close to 0) regardless of the fraction intercepted. As a side effect of the two protocols though (mainly privacy amplification), the number of bits left to use is significantly decreased, and if Eve is intercepting a large fraction of the bits, almost no bits remain to be used. This is of course necessary to ensure Eve knows <1 bit.\n",
    "\n",
    "Next, we look at the case of noise, but no interceptor. If Alice and Bob are sure there is no interceptor, they only carry out the error elimination protocol on their keys from BB84. This protocol is tested over various noise probabilities, tracking numbers of bits and errors immediately before and after the protocol is carried out. The resulting data is plotted in Figure 6.2 below versus noise probability."
   ]
  },
  {
   "cell_type": "code",
   "execution_count": 633,
   "id": "robust-capture",
   "metadata": {},
   "outputs": [
    {
     "data": {
      "text/plain": [
       "(array([50.125, 49.05 , 50.175, 48.55 , 50.25 , 50.2  , 49.55 , 49.3  ,\n",
       "        49.675, 49.625, 48.925, 48.775, 49.725, 49.85 , 49.9  , 49.35 ,\n",
       "        49.975, 50.725, 50.925, 50.125]),\n",
       " array([50.125, 44.05 , 40.325, 35.1  , 30.45 , 24.75 , 20.4  , 16.1  ,\n",
       "        10.725,  7.375,  4.975,  6.375,  9.825, 14.2  , 19.5  , 24.5  ,\n",
       "        28.725, 36.875, 41.475, 45.475]),\n",
       " array([ 0.   ,  2.625,  5.45 ,  7.1  , 10.15 , 13.275, 14.625, 16.9  ,\n",
       "        19.7  , 22.35 , 23.85 , 26.025, 29.175, 32.   , 34.7  , 36.925,\n",
       "        39.35 , 43.8  , 46.2  , 47.8  ]),\n",
       " array([ 0.   ,  0.125,  0.525,  0.375,  0.25 ,  0.55 ,  0.05 ,  0.3  ,\n",
       "         0.225,  1.225,  1.875,  4.825,  9.225, 14.175, 19.5  , 24.5  ,\n",
       "        28.725, 36.875, 41.475, 45.475]))"
      ]
     },
     "execution_count": 633,
     "metadata": {},
     "output_type": "execute_result"
    }
   ],
   "source": [
    "# Error Elimination after Noise\n",
    "# Tested over a range of different noise_p\n",
    "# Total numbers of bits and errors right before the two protocols and right after both protocols are computed\n",
    "# in each trial\n",
    "# A total of 40 trials per noise_p\n",
    "noise_p_list = np.arange(0.,1.,0.05)\n",
    "num_bits_before = np.zeros(len(noise_p_list))\n",
    "num_bits_after = np.zeros(len(noise_p_list))\n",
    "num_errors_before = np.zeros(len(noise_p_list))\n",
    "num_errors_after = np.zeros(len(noise_p_list))\n",
    "attempts = 40\n",
    "\n",
    "for j in range(0,len(noise_p_list)):\n",
    "    noise_p = noise_p_list[j]\n",
    "    \n",
    "    num_bits_before_list = np.zeros(attempts)\n",
    "    num_errors_before_list = np.zeros(attempts)\n",
    "    num_bits_after_list = np.zeros(attempts)\n",
    "    num_errors_after_list = np.zeros(attempts)\n",
    "    for i in range(0,attempts):\n",
    "        n=100\n",
    "\n",
    "        alice_bits = randint(2, size=n)\n",
    "        ## Step 2\n",
    "        alice_bases = randint(2, size=n)\n",
    "        message = encode_message(alice_bits, alice_bases)\n",
    "\n",
    "        ## Noise\n",
    "        message = apply_noise(message, noise_p)\n",
    "\n",
    "        ## Step 3\n",
    "        bob_bases = randint(2, size=n)\n",
    "        bob_results = measure_message(message, bob_bases)\n",
    "\n",
    "        ## Step 4\n",
    "        bob_key = remove_garbage(alice_bases, bob_bases, bob_results)\n",
    "        alice_key = remove_garbage(alice_bases, bob_bases, alice_bits)\n",
    "        \n",
    "        ## Error Elimination after Noise\n",
    "        (alice_errors_eliminated,bob_errors_eliminated)=eliminate_errors(alice_key, bob_key, noise_p=noise_p, f_int=0)\n",
    "        \n",
    "        num_bits_before_list[i] = len(alice_key)\n",
    "        num_bits_after_list[i] = len(alice_errors_eliminated)\n",
    "        for k in range(len(alice_key)):\n",
    "            if alice_key[k]!=bob_key[k]:\n",
    "                num_errors_before_list[i]+=1\n",
    "        for k in range(len(alice_errors_eliminated)):\n",
    "            if alice_errors_eliminated[k]!=bob_errors_eliminated[k]:\n",
    "                num_errors_after_list[i]+=1\n",
    "                \n",
    "    num_bits_before[j] = sum(num_bits_before_list)/attempts\n",
    "    num_errors_before[j] = sum(num_errors_before_list)/attempts\n",
    "    num_bits_after[j] = sum(num_bits_after_list)/attempts\n",
    "    num_errors_after[j] = sum(num_errors_after_list)/attempts\n",
    "\n",
    "(num_bits_before, num_bits_after, num_errors_before, num_errors_after)"
   ]
  },
  {
   "cell_type": "code",
   "execution_count": 634,
   "id": "industrial-statistics",
   "metadata": {},
   "outputs": [
    {
     "data": {
      "text/plain": [
       "<matplotlib.legend.Legend at 0x7fd8d197ce50>"
      ]
     },
     "execution_count": 634,
     "metadata": {},
     "output_type": "execute_result"
    },
    {
     "data": {
      "image/png": "[encoded data removed]",
      "text/plain": [
       "<Figure size 432x288 with 1 Axes>"
      ]
     },
     "metadata": {
      "needs_background": "light"
     },
     "output_type": "display_data"
    }
   ],
   "source": [
    "# Data from above is plotted\n",
    "plt.plot(noise_p_list, num_bits_before, label='Total Bits Before')\n",
    "plt.plot(noise_p_list, num_errors_before, label='Total Errors Before')\n",
    "plt.plot(noise_p_list, num_bits_after, label='Total Bits After')\n",
    "plt.plot(noise_p_list, num_errors_after, label='Total Errors After')\n",
    "plt.grid(True)\n",
    "plt.xlabel('Noise Probability')\n",
    "plt.ylabel('Number of Bits/Errors')\n",
    "plt.title('Figure 6.2')\n",
    "plt.legend(loc='lower right')"
   ]
  },
  {
   "cell_type": "markdown",
   "id": "running-zealand",
   "metadata": {},
   "source": [
    "The results in Figure 6.2 may look surprising. When noise probability is in the range 0-0.4, results follow the same trend as those in Figure 6.1; the error elimination protocol tends to reduce the number of bits to eliminate errors, with more bits being eliminated as the noise probability, and hence number of errors, increases. However, at a noise probability of 0.5, the graph seems to take an unexpected U-turn, and eventually, all retained bits from error elimination are actually errors!\n",
    "\n",
    "When we look at how the protocol works though, this is actually the expected outcome with such a high portion of errors. This is ultimately a result of how parity works. Consider the following simple scenario:\n",
    "\n",
    "> Alice key: 001001 <br>\n",
    "> Bob key: 010110\n",
    "\n",
    "In this scenario, only the first bit (bit 1) matches between Alice and Bob, so there is an error of 5/6 (which can be incurred by noise with a noise probability of 83.3% in a reasonable portion of cases). If we simply pair bits 1-2, 3-4, 5-6 and calculate parities, we have:\n",
    "\n",
    "> Alice parities: 011 <br>\n",
    "> Bob parities: 111\n",
    "\n",
    "As a result, Alice and Bob eliminate bits 1 and 2, even though bit 1 is the only correct bit! The result is then:\n",
    "\n",
    "> Alice result: 1001 <br>\n",
    "> Bob result: 0110\n",
    "\n",
    "in which we are left with 100% error (all remaining bits are errors). Now, no matter which way we calculate the parity, none of the remaining bits are eliminated, since 0^0=1^1 and 0^1=1^0, where ^ is XOR (parity calculation). Thus, if most of Bob's bits do not match Alice's, the error elimination protocol will ultimately give Bob a result with 100% error, perfectly opposite to Alice's result. One way to work around this is to compare a small number of bits (maybe 2 or 3) at the end of the error elimination protocol. If there are errors, Bob can flip all of his bits and try comparing a sample again to verify that his bits match Alice's. This simulation is another great lesson on why reducing noise is so important. Such noisy channels are essentially useless in reality though, so this would not be much of an issue in practice.\n",
    "\n",
    "Lastly, we simulate the scenario where Alice and Bob out both error elimination and privacy amplification after BB84 in the case that there is both noise (with noise probability `noise_p`) and an interceptor intercepting a fraction of the total qubits sent (fraction `f_int`). This interception with noise is implemented in a similar way as was done in Section 5. The fraction of resultant bits that are errors after the two protocols is calculated over ranges of different fractions intercepted and noise probabilities. The results are displayed in Figure 6.3 on a heatplot."
   ]
  },
  {
   "cell_type": "code",
   "execution_count": 8,
   "id": "beneficial-backing",
   "metadata": {},
   "outputs": [],
   "source": [
    "# Error Elimination and Privacy Amplification for Eve + Noise\n",
    "# get_avg_key_error from section 5 is modified to perform error elimination and privacy amplification at the end\n",
    "def get_avg_key_error_with_corrections(f_int, noise_p):\n",
    "    n=100\n",
    "    x=min(noise_p,1-noise_p)\n",
    "    attempts=20\n",
    "    \n",
    "    if (noise_p>1 or f_int>1):\n",
    "        return 1\n",
    "    elif (noise_p==0.5):\n",
    "        noise_p_list=[0.5]\n",
    "    elif (noise_p==0):\n",
    "        noise_p_list=[0]\n",
    "    elif (noise_p==1):\n",
    "        noise_p_list=[1]\n",
    "    else:\n",
    "        noise_p_list=np.concatenate([np.arange(0,x,x/((attempts/2)-1)),[x],np.arange(1-x,1,x/((attempts/2)-1))])\n",
    "    \n",
    "    num_errors_list=np.zeros(len(noise_p_list))\n",
    "    percent_errors_list=np.zeros(len(noise_p_list))\n",
    "    \n",
    "    for i in range(len(noise_p_list)):\n",
    "        p=noise_p_list[i]\n",
    "        noise_p1=p\n",
    "        if(p==0.5):\n",
    "            noise_p2=0.5\n",
    "        else:\n",
    "            noise_p2=((noise_p-p)/(1-(2*p)))\n",
    "        \n",
    "        alice_bits = randint(2, size=n)\n",
    "        \n",
    "        alice_bases = randint(2, size=n)\n",
    "        message = encode_message(alice_bits, alice_bases)\n",
    "\n",
    "        ## Noise\n",
    "        message = apply_noise(message, noise_p1)\n",
    "\n",
    "        ## Interception\n",
    "        n_eve=int(f_int*n)\n",
    "        eve_bit_selection = sample(range(n), n_eve)\n",
    "        eve_bases = randint(2, size=n_eve)\n",
    "        intercepted_message = eve_measure_message(message, eve_bases, eve_bit_selection)\n",
    "\n",
    "        ## Noise again\n",
    "        message = apply_noise(message, noise_p2)\n",
    "\n",
    "        \n",
    "        bob_bases = randint(2, size=n)\n",
    "        bob_results = measure_message(message, bob_bases)\n",
    "\n",
    "        \n",
    "        bob_key = remove_garbage(alice_bases, bob_bases, bob_results)\n",
    "        alice_key = remove_garbage(alice_bases, bob_bases, alice_bits)\n",
    "        \n",
    "        # Error Elimination\n",
    "        (alice_errors_eliminated,bob_errors_eliminated)=eliminate_errors(alice_key, bob_key, noise_p=noise_p, f_int=f_int)\n",
    "        \n",
    "        # Privacy Amplification\n",
    "        (alice_final_bits,bob_final_bits)=amplify_privacy(alice_errors_eliminated,bob_errors_eliminated, noise_p=noise_p, f_int=f_int, after_error_elim=1)\n",
    "        \n",
    "        \n",
    "        for j in range(len(bob_final_bits)):\n",
    "            num_errors_list[i] += (bob_final_bits[j]!=alice_final_bits[j])\n",
    "        \n",
    "        percent_errors_list[i] = num_errors_list[i]/len(bob_key)\n",
    "    \n",
    "    return sum(percent_errors_list)/len(noise_p_list)"
   ]
  },
  {
   "cell_type": "code",
   "execution_count": 12,
   "id": "published-lodging",
   "metadata": {},
   "outputs": [
    {
     "data": {
      "text/plain": [
       "array([[0.        , 0.        , 0.        , 0.        , 0.        ,\n",
       "        0.        , 0.        , 0.        , 0.        , 0.        ,\n",
       "        0.        ],\n",
       "       [0.00204082, 0.00462433, 0.0039673 , 0.0038624 , 0.        ,\n",
       "        0.00185185, 0.        , 0.00196078, 0.        , 0.        ,\n",
       "        0.        ],\n",
       "       [0.01644849, 0.00978721, 0.00210526, 0.00223964, 0.        ,\n",
       "        0.00847529, 0.        , 0.        , 0.        , 0.        ,\n",
       "        0.        ],\n",
       "       [0.01299371, 0.00435231, 0.00592293, 0.        , 0.        ,\n",
       "        0.        , 0.        , 0.        , 0.        , 0.        ,\n",
       "        0.        ],\n",
       "       [0.00210611, 0.0018797 , 0.00685771, 0.        , 0.00269906,\n",
       "        0.        , 0.        , 0.        , 0.        , 0.        ,\n",
       "        0.        ],\n",
       "       [0.02101672, 0.00734674, 0.        , 0.00828142, 0.        ,\n",
       "        0.        , 0.00116959, 0.00107411, 0.        , 0.        ,\n",
       "        0.        ],\n",
       "       [0.00678404, 0.00270748, 0.00194932, 0.        , 0.        ,\n",
       "        0.00322234, 0.        , 0.        , 0.        , 0.00350877,\n",
       "        0.        ],\n",
       "       [0.00505241, 0.00491881, 0.        , 0.        , 0.00102041,\n",
       "        0.00098039, 0.00188679, 0.        , 0.00217391, 0.        ,\n",
       "        0.00348837],\n",
       "       [0.00353826, 0.01089526, 0.01403838, 0.00589314, 0.01396443,\n",
       "        0.00555556, 0.00926125, 0.00729299, 0.00697767, 0.00219298,\n",
       "        0.00322234],\n",
       "       [0.02715494, 0.03439913, 0.01909112, 0.02006205, 0.0071927 ,\n",
       "        0.01450023, 0.00554396, 0.00842592, 0.00615385, 0.01531186,\n",
       "        0.0073065 ],\n",
       "       [0.08333333, 0.12727273, 0.10638298, 0.        , 0.        ,\n",
       "        0.        , 0.        , 0.04761905, 0.        , 0.01886792,\n",
       "        0.04166667]])"
      ]
     },
     "execution_count": 12,
     "metadata": {},
     "output_type": "execute_result"
    }
   ],
   "source": [
    "import pandas as pd\n",
    "import seaborn as sns\n",
    "\n",
    "# The above function is tested over a range of different f_int and noise_p to find \n",
    "# percent errors after the two correction protocols for each (f_int, noise_p) pair\n",
    "f_int_list=np.arange(0,0.51,0.05)\n",
    "noise_p_list=np.arange(0,0.51,0.05)\n",
    "percent_key_errors_w_correction = np.ones((len(noise_p_list),len(f_int_list)))\n",
    "\n",
    "for i in range(len(noise_p_list)):\n",
    "    for j in range(len(f_int_list)):\n",
    "        percent_key_errors_w_correction[i][j]=get_avg_key_error_with_corrections(f_int_list[j],noise_p_list[i])\n",
    "\n",
    "percent_key_errors_w_correction"
   ]
  },
  {
   "cell_type": "code",
   "execution_count": 13,
   "id": "ruled-engagement",
   "metadata": {},
   "outputs": [
    {
     "data": {
      "image/png": "[encoded data removed]",
      "text/plain": [
       "<Figure size 640x480 with 2 Axes>"
      ]
     },
     "metadata": {
      "needs_background": "light"
     },
     "output_type": "display_data"
    }
   ],
   "source": [
    "# Data from above is plotted in a heat plot in Figure 6.3\n",
    "# This data can be compared with that from Figure 5.1 to see the efficacy of Error Elimination and Privacy Amplification\n",
    "np_rounded=[round(p,2) for p in noise_p_list]\n",
    "fi_rounded=[round(f,2) for f in f_int_list]\n",
    "plt.figure(figsize=(8, 6), dpi=80)\n",
    "data=pd.DataFrame(percent_key_errors_w_correction,index=fi_rounded,columns=np_rounded)\n",
    "ax=sns.heatmap(data, cmap = sns.cm.rocket_r, cbar_kws={'label': 'Fraction of Error in Result'}, vmin=0, vmax=0.57)\n",
    "ax.figure.axes[-1].yaxis.label.set_size(16)\n",
    "ax.invert_yaxis()\n",
    "ax.title.set_text('Figure 6.3')\n",
    "plt.ylabel(\"Noise Probability\", size=16)\n",
    "plt.xlabel(\"Fraction of Bits Intercepted\", size=16)\n",
    "plt.show()"
   ]
  },
  {
   "cell_type": "markdown",
   "id": "inner-belief",
   "metadata": {},
   "source": [
    "Comparing Figure 6.3 with Figure 5.1 shows how significantly these two protocols have reduced the error in Alice's and Bob's keys, although a decent proportion of bits have definitely been lost in the process. Setting aside this unavoidable consequence, it is certainly impressive how effective the utilized error elimination and privacy amplification protocols are in dealing with resulting error in Alice's and Bob's keys."
   ]
  },
  {
   "cell_type": "markdown",
   "id": "tropical-remove",
   "metadata": {},
   "source": [
    "## 7. Message Encryption/Decryption Using BB84"
   ]
  },
  {
   "cell_type": "markdown",
   "id": "opposite-bosnia",
   "metadata": {},
   "source": [
    "Ultimately, the goal of the BB84 QKD protocol is to distribute a private key to use in a one-time pad encryption scheme. We will now illustrate an example of a BB84-generated private key and how it is used in encryption and decryption of a message. As usual, the players in this example are Alice, the message sender, and Bob, the message receiver."
   ]
  },
  {
   "cell_type": "markdown",
   "id": "sunrise-general",
   "metadata": {},
   "source": [
    "### Encryption/Decryption Helper Functions"
   ]
  },
  {
   "cell_type": "code",
   "execution_count": 53,
   "id": "adolescent-absorption",
   "metadata": {},
   "outputs": [],
   "source": [
    "import random\n",
    "import string\n",
    "\n",
    "all_letters = string.ascii_letters +  string.punctuation + string.whitespace \n",
    "\n",
    "def encrypt_message(string, key):\n",
    "    \"\"\"\n",
    "    Our ascii values are indexed 1-84 and this function simply \"adds\" two letters together \n",
    "    (repeating from 1 when the max value is hit). This code was partially taken from StackExchange \n",
    "    but was modified to fit our ascii list.\n",
    "    \"\"\"\n",
    "    retval = \"\"\n",
    "    for k, v in zip(string, key):\n",
    "        c_index = all_letters.index(k)\n",
    "        key_index = all_letters.index(v)\n",
    "        cipher_index = c_index + key_index\n",
    "        try:\n",
    "            retval += all_letters[cipher_index]\n",
    "        except IndexError:\n",
    "            cipher_index -= 90\n",
    "            retval += all_letters[cipher_index]\n",
    "    return retval\n",
    "\n",
    "\n",
    "def decrypt_message(encrypted, key):\n",
    "    \"\"\"\n",
    "    This reverses the action done b the \"encrypt_message\" function.\n",
    "    \"\"\"\n",
    "    retval = \"\"\n",
    "    for k, v in zip(encrypted, key):\n",
    "        c_index = all_letters.index(k)\n",
    "        key_index = all_letters.index(v)\n",
    "        decrypt = c_index - key_index\n",
    "        try:\n",
    "            retval += all_letters[decrypt]\n",
    "        except IndexError:\n",
    "            decrypt += 90\n",
    "            retval += all_letters[decrypt]\n",
    "    \n",
    "    # rstrip gets rid of the padded whitespaces\n",
    "    return retval.rstrip()\n",
    "\n",
    "def generate_key(string, length_multiplier=1):\n",
    "    \"\"\"\n",
    "    This generates a random key for whatever sized length of the string is inputted. \n",
    "    The length_multiplier factor makes the key x times larger than the orginal string\n",
    "    for when extra values are needed to compare during key distribution.  Originally \n",
    "    designed to use the randint function, it was updated to use qubits to truly\n",
    "    randomly choose a key.  This is still all in ascii strings.\n",
    "    \"\"\"\n",
    "    key = ['']*(len(string)*length_multiplier)\n",
    "    # Create binary value between 0-89(7 bits needed for 0-127)\n",
    "    for idx in range(0,len(string)):\n",
    "\n",
    "        key_value = 90\n",
    "        while key_value > 84:\n",
    "#             # this is using randint\n",
    "#             random_binaries = randint(2, size=7)\n",
    "            # this is using qubits for truly random numbers\n",
    "            random_binaries = true_random_int()\n",
    "            \n",
    "            binary_string = ''.join(map(str, random_binaries))\n",
    "            key_value = int(binary_string, 2)\n",
    "            \n",
    "        try:\n",
    "            key[idx] = all_letters[key_value]\n",
    "        except IndexError:\n",
    "            key_value -= 90\n",
    "            key[idx] = all_letters[key_value]\n",
    "    return ''.join(map(str, key))\n",
    "\n",
    "def pad_message(string):\n",
    "    \"\"\"\n",
    "    This pads a message with extra blank spaces so the length of the message\n",
    "    itself is hidden.  Further security.  All in string format.\n",
    "    \"\"\"\n",
    "#     Let's just make the maximum 32 characters long for now, pad to 64\n",
    "    padded_message = string\n",
    "    if len(string) > 32:\n",
    "        print('Message too long, please shorten to 32 characters long.')\n",
    "    else:\n",
    "        padded_message += \" \"*(64-len(string))\n",
    "    return padded_message\n",
    "\n",
    "def letter_to_binary(letter):\n",
    "    \"\"\"\n",
    "    This function takes a single letter, finds its index number from the ascii list,\n",
    "    then converts that index number into a 7 bit binary equivalent.  The output is \n",
    "    and np array of the binary index value in ints.\n",
    "    \"\"\"\n",
    "    letter_idx = all_letters.index(letter)\n",
    "    string_bin = f'{letter_idx:07b}'\n",
    "    binary_array = np.ones(7)\n",
    "    for idx in range(0,len(binary_array)):\n",
    "        binary_array[idx] = int(string_bin[idx])\n",
    "    return binary_array\n",
    "\n",
    "def string_to_binary_array(string):\n",
    "    \"\"\"\n",
    "    This function takes an entire string and will map all ascii values to their binary\n",
    "    indicies using the letter_to_binary function.\n",
    "    \"\"\"\n",
    "    # 7 bits for each letter\n",
    "    full_binary_array = np.empty(0)\n",
    "    for letter in string:\n",
    "        full_binary_array = np.append(full_binary_array, letter_to_binary(letter))\n",
    "    return full_binary_array\n",
    "\n",
    "def binary_array_to_string(full_binary_array):\n",
    "    \"\"\"\n",
    "    This reverses the process of the string_to_binary_array function.  It takes a binary\n",
    "    strings and puts them back into their ascii equivalent.\n",
    "    \"\"\"\n",
    "    output_string = ''\n",
    "    for idx in range(0,int(len(full_binary_array)/7)):\n",
    "        binary_slice = full_binary_array[7*idx:(1+idx)*7]\n",
    "        binary_slice = binary_slice.tolist()\n",
    "        binary_slice = [int(i) for i in binary_slice]\n",
    "\n",
    "        letter_index = int(''.join(map(str, binary_slice)),2)\n",
    "        output_string = output_string + all_letters[letter_index]\n",
    "        \n",
    "    return output_string"
   ]
  },
  {
   "cell_type": "code",
   "execution_count": 54,
   "id": "painted-sauce",
   "metadata": {},
   "outputs": [],
   "source": [
    "def encode_message(bits, bases):\n",
    "    \"\"\"\n",
    "    This function was taken from the Qiskit website.\n",
    "    This function encodes bits in either the z or x basis.\n",
    "    \"\"\"\n",
    "    message = []\n",
    "    n = len(bases)\n",
    "    for i in range(n):\n",
    "        qc = QuantumCircuit(1,1)\n",
    "        if bases[i] == 0: # Prepare qubit in Z-basis\n",
    "            if bits[i] == 0:\n",
    "                pass \n",
    "            else:\n",
    "                qc.x(0)\n",
    "        else: # Prepare qubit in X-basis\n",
    "            if bits[i] == 0:\n",
    "                qc.h(0)\n",
    "            else:\n",
    "                qc.x(0)\n",
    "                qc.h(0)\n",
    "        qc.barrier()\n",
    "        message.append(qc)\n",
    "    return message\n",
    "\n",
    "def measure_message(message, bases):\n",
    "    \"\"\"\n",
    "    This function was taken from the Qiskit website.\n",
    "    This function measures bits in either the z or x basis.\n",
    "    \"\"\"\n",
    "    backend = Aer.get_backend('qasm_simulator')\n",
    "    measurements = []\n",
    "    n = len(bases)\n",
    "    for q in range(n):\n",
    "        if bases[q] == 0: # measuring in Z-basis\n",
    "            message[q].measure(0,0)\n",
    "        if bases[q] == 1: # measuring in X-basis\n",
    "            message[q].h(0)\n",
    "            message[q].measure(0,0)\n",
    "        qasm_sim = Aer.get_backend('qasm_simulator')\n",
    "        qobj = assemble(message[q], shots=1, memory=True)\n",
    "        result = qasm_sim.run(qobj).result()\n",
    "        measured_bit = int(result.get_memory()[0])\n",
    "        measurements.append(measured_bit)\n",
    "    return measurements\n",
    "\n",
    "def eve_measure_message(message, bases, indices):\n",
    "    \"\"\"\n",
    "    This function was taken from the Qiskit website (as \"measure_message\").  \n",
    "    It was then later modified by Thomas Chamberlin to only measure a subset\n",
    "    of the bits in the x or z basis, based on the inputted indicies.\n",
    "    \"\"\"\n",
    "    backend = Aer.get_backend('qasm_simulator')\n",
    "    measurements = []\n",
    "    n = len(bases)\n",
    "    for q in range(n):\n",
    "        if bases[q] == 0: # measuring in Z-basis\n",
    "            message[indices[q]].measure(0,0)\n",
    "        if bases[q] == 1: # measuring in X-basis\n",
    "            message[indices[q]].h(0)\n",
    "            message[indices[q]].measure(0,0)\n",
    "        qasm_sim = Aer.get_backend('qasm_simulator')\n",
    "        qobj = assemble(message[indices[q]], shots=1, memory=True)\n",
    "        result = qasm_sim.run(qobj).result()\n",
    "        measured_bit = int(result.get_memory()[0])\n",
    "        measurements.append(measured_bit)\n",
    "    return measurements\n",
    "\n",
    "def remove_garbage(a_bases, b_bases, bits):\n",
    "    \"\"\"\n",
    "    This function was taken from the Qiskit website.\n",
    "    This removes bits that were measured in different bases.\n",
    "    \"\"\"\n",
    "    good_bits = []\n",
    "    n=len(a_bases)\n",
    "    for q in range(n):\n",
    "        if a_bases[q] == b_bases[q]:\n",
    "            # If both used the same basis, add\n",
    "            # this to the list of 'good' bits\n",
    "            good_bits.append(bits[q])\n",
    "    return good_bits\n",
    "\n",
    "def sample_bits(bits, selection):\n",
    "    \"\"\"\n",
    "    This function was taken from the Qiskit website.\n",
    "    This function samples the bits and pops them out of the list.\n",
    "    \"\"\"\n",
    "    sample = []\n",
    "    for i in selection:\n",
    "        # use np.mod to make sure the\n",
    "        # bit we sample is always in \n",
    "        # the list range\n",
    "        i = np.mod(i, len(bits))\n",
    "        # pop(i) removes the element of the\n",
    "        # list at index 'i'\n",
    "        sample.append(bits.pop(i))\n",
    "    return sample\n",
    "\n",
    "\n"
   ]
  },
  {
   "cell_type": "markdown",
   "id": "meaningful-first",
   "metadata": {},
   "source": [
    "As an interesting aside, an often-cited failure of classical computing is the impossibility of creating a truly random number generator under its axioms. The best one can do with classical computing is a pseudo-random number generator, which is actually completely deterministic in the sense that given an input value (called a _seed_), the generator will output the same output sequence of random-like numbers every time. The seed itself may be truly random, but is often not. [4]\n",
    "\n",
    "On the other hand, quantum computing has no such restrictions. The inherent randomness of quantum mechanics allows for the generation of a true random number generator. Below is a prototype of a true random number generator, which places 7 independent qubits initially in Z-basis states into equal superpositions using Hadamard gates on each of them. Measuring each of the qubits in the Z-basis gives a total of 7 bits, which are put together to determine a truly random binary number 0-127. The true randomness comes from the fact that the result of any of the measurements is not known in any sense before the measurement is actually carried out, and each measurement has a 50% chance of being 0 and 50% chance of being 1. In this report, the function `true_random_int` below is used in the generation of a private key through the function `generate_key` in the Encryption/Decryption Helper Functions section above."
   ]
  },
  {
   "cell_type": "code",
   "execution_count": 638,
   "id": "sealed-genius",
   "metadata": {},
   "outputs": [
    {
     "data": {
      "text/plain": [
       "array([1, 0, 0, 1, 0, 0, 1])"
      ]
     },
     "execution_count": 638,
     "metadata": {},
     "output_type": "execute_result"
    }
   ],
   "source": [
    "def true_random_int():\n",
    "    \"\"\"\n",
    "    This function makes a truly random number generator for values 0-127.\n",
    "    It takes 7 independent qubits, places them into independent equal superpositions\n",
    "    through a Hadamard gate and then measures them.  Those 7 random 0's or 1's then\n",
    "    become the binary equivalent of a random number between 0-127.\n",
    "    \"\"\"\n",
    "    random_binaries = np.ones(7)\n",
    "    for idx in range(7):\n",
    "        # Make Circuit\n",
    "        qc = QuantumCircuit(1,1)\n",
    "        qc.h(0)\n",
    "        qc.measure(0,0)\n",
    "        \n",
    "        # Do a one shot measurement and check the state\n",
    "        qasm_sim = Aer.get_backend('qasm_simulator')\n",
    "        job = qasm_sim.run(assemble(qc), shots=1)\n",
    "        counts_back = job.result().data()\n",
    "        \n",
    "        # keep track if it's a 1 or a 0\n",
    "        try: \n",
    "            random_binaries[idx] = (counts_back['counts'])['0x1']\n",
    "        except KeyError:\n",
    "            random_binaries[idx] = 0\n",
    "\n",
    "    # Just makes them int's \n",
    "    random_int_list = random_binaries.tolist()\n",
    "    random_int_list = [int(i) for i in random_int_list]\n",
    "    return np.array(random_int_list)\n",
    "true_random_int()"
   ]
  },
  {
   "cell_type": "markdown",
   "id": "secondary-settle",
   "metadata": {},
   "source": [
    "Classically, a one-time pad encryption scheme involves the generation and use of a private key that is distributed from Alice, the message sender, to Bob, the message receiver, over some channel of communication. Unfortunately, this is very easy to intercept, since the measurement of a classical set of bits does not change the bits' state in any way, so Bob has no way of knowing of the interception.\n",
    "\n",
    "Quantum key distribution (QKD), as its name suggests, distributes the private key by quantum means instead, and as we saw previously in this report, we are able to detect interception relatively well, although the protocol is surely more sensitive to noise than a classical one. After QKD, though, the encryption and decryption of the message using the private key is still carried out classically. An example of such encryption and decryption is given below, which uses several functions from the Encryption/Decryption Helper Functions section above."
   ]
  },
  {
   "cell_type": "code",
   "execution_count": 56,
   "id": "individual-boating",
   "metadata": {},
   "outputs": [
    {
     "name": "stdout",
     "output_type": "stream",
     "text": [
      "Original message: \n",
      "cat in a hat                                                    \n",
      "\n",
      "Random generated key (using randint): \n",
      "J`rzL<_'vZAlCh$bsDVEaMBKd.?.GzaZni l$Scf?.]'m<J=Y&=*pm-%@pFJoJF.\n",
      "\n",
      "Encrypted message: \n",
      "(/(At Thc_fXMbX\tmxPy GvE\n",
      "\f",
      "/(=!g,D-SZ-$jg'Y:jzDiDz(\n",
      "\n",
      "Decrypted message: \n",
      "cat in a hat\n"
     ]
    }
   ],
   "source": [
    "orig_st = 'cat in a hat'\n",
    "# Padded string \n",
    "st = pad_message(orig_st)\n",
    "print('Original message: ')\n",
    "print(st+'\\n')\n",
    "key = generate_key(st)\n",
    "print('Random generated key (using randint): ')\n",
    "print(key+'\\n')\n",
    "x = encrypt_message(st,key)\n",
    "print('Encrypted message: ')\n",
    "print(x+'\\n')\n",
    "y = decrypt_message(x,key)\n",
    "print('Decrypted message: ')\n",
    "print(y)"
   ]
  },
  {
   "cell_type": "markdown",
   "id": "faced-philosophy",
   "metadata": {},
   "source": [
    "Now, Alice may utilize the advantages of QKD, the true random number generator `true_random_int`, and classical encryption/decryption to send a message to Bob. We follow the protocol below to simulate an example process which Alice can use to securely send her message. Alice starts off with a message that she wants to send.\n",
    "\n",
    "1. Alice pads her message with spaces to get the message to a certain length threshold. This is to include more characters in her randomly-generated private key, adding further security.\n",
    "2. Alice generates a one-time pad (in ASCII) from her message using the `generate_key` function. The one-time pad is made 2 times larger than the message in order to allow extra room for qubits to compare. The more qubits there are to be compared at the end of QKD, the more sure one can be about whether an interceptor has interfered or not.\n",
    "3. Alice turns one-time pad ASCII equivalents into qubits. All of the ASCII characters used are mapped on indicies 0-84. Numbers 0-127 can be described with a 7-bit binary number. Thus, any given ASCII character can be represented by 7 independent qubits.\n",
    "4. Alice sends the quantum one-time pad to Bob, carrying out the BB84 protocol.\n",
    "5. Alice and Bob compare a sample of randomly chosen bits to detect any possible interception.\n",
    "6. If the one-time pad was deemed to not have been intercepted, Alice and Bob continue to the next step. If they find that the one-time pad has been intercepted, they must start over from step 2.\n",
    "7. Believing that no interception has occurred, Alice can now send an encrypted message to Bob using her classical one-time pad, which is now officially the private key (generated in step 2).\n",
    "8. Bob decrypts Alice's encrypted message using his private key (sent by Alice).\n",
    "\n",
    "These steps are carried out below, showing QKD in action."
   ]
  },
  {
   "cell_type": "code",
   "execution_count": 57,
   "id": "knowing-foundation",
   "metadata": {},
   "outputs": [
    {
     "name": "stdout",
     "output_type": "stream",
     "text": [
      "Original message: \n",
      "Hopefully this works                                            \n"
     ]
    }
   ],
   "source": [
    "## Step 1: Pad Message\n",
    "\n",
    "orig_st = 'Hopefully this works'\n",
    "# Padded string \n",
    "st = pad_message(orig_st)\n",
    "print('Original message: ')\n",
    "print(st)"
   ]
  },
  {
   "cell_type": "code",
   "execution_count": 58,
   "id": "usual-rendering",
   "metadata": {},
   "outputs": [
    {
     "name": "stdout",
     "output_type": "stream",
     "text": [
      "Random key generated:\n",
      "uat{@NfV=j(+i}L`/df!...\n"
     ]
    }
   ],
   "source": [
    "## Step 2: Generate Key\n",
    "\n",
    "# Makes key *length_multiplier times longer than original\n",
    "length_multiplier = 2\n",
    "key = generate_key(st, length_multiplier)\n",
    "print('Random key generated:')\n",
    "print(str(key[0:20]) + '...')"
   ]
  },
  {
   "cell_type": "code",
   "execution_count": 59,
   "id": "impossible-breach",
   "metadata": {},
   "outputs": [
    {
     "name": "stdout",
     "output_type": "stream",
     "text": [
      "Alice bits:\n",
      "[0. 0. 1. 0. 1. 0. 0. 0. 0. 0. 0. 0. 0. 0. 0. 0. 1. 0. 0. 1.] ...\n",
      "Alice bases:\n",
      "[1 0 0 1 1 0 1 0 0 1 1 1 1 1 0 1 1 0 1 1] ...\n",
      "\n",
      "Total qubits sent: 448\n"
     ]
    }
   ],
   "source": [
    "## Step 3: Turn Key Into Qubits\n",
    "\n",
    "n = len(key*7)\n",
    "# bits is based off of the one time pad converted into binary:\n",
    "alice_bits = string_to_binary_array(key)\n",
    "# bases is random for now TODO: make this true random\n",
    "alice_bases = randint(2, size=n)\n",
    "\n",
    "\n",
    "# now make it qiskit bits, this is the one time pad\n",
    "message = encode_message(alice_bits, alice_bases)\n",
    "print('Alice bits:')\n",
    "print(str(alice_bits[0:20]) + ' ...')\n",
    "print('Alice bases:')\n",
    "print(str(alice_bases[0:20]) + ' ...')\n",
    "print('\\nTotal qubits sent: ' + str(n))"
   ]
  },
  {
   "cell_type": "code",
   "execution_count": 60,
   "id": "sophisticated-vancouver",
   "metadata": {},
   "outputs": [],
   "source": [
    "## Step 4: BB84 Protocol with Interception\n",
    "\n",
    "\"\"\"The first two variables in the block below are \n",
    "the numbers you would want to sweep if you wanted \n",
    "to see how good your detection is.  You do this by \n",
    "choosing how many bits (out of 448) Eve eavesdrops, \n",
    "and how many qubits of the pad Alice and Bob compare\n",
    "at the end (max is 224).\n",
    "E.g. the more bits that Eve measures (n_eve), the \n",
    "higher the probability that Alice and Bob will detect \n",
    "an eavesdropper.  Similarly, the more bits Alice and \n",
    "Bob compare(n_compare), the higher the probability \n",
    "Alice and Bob will detect Eve.\n",
    "\n",
    "Warning: Running this block twice in a row will mess \n",
    "up the results because Eve re-samples a random number \n",
    "of qubits. If you need to run this again, you need to \n",
    "re-run the block above!\"\"\"\n",
    "\n",
    "# Number of bits eve attempts to measure\n",
    "n_eve=200\n",
    "# Number of bits that Alice and Bob Compare\n",
    "n_compare=4\n",
    "\n",
    "# Eve interception\n",
    "eve_bit_selection = randint(n, size=n_eve)\n",
    "eve_bit_selection = random.sample(range(n), n_eve)\n",
    "eve_bases = randint(2, size=n_eve)\n",
    "intercepted_message = eve_measure_message(message, eve_bases, eve_bit_selection)\n",
    "\n",
    "\n",
    "bob_bases = randint(2, size=n)\n",
    "bob_results = measure_message(message, bob_bases)\n",
    "\n",
    "bob_key = remove_garbage(alice_bases, bob_bases, bob_results)\n",
    "alice_key = remove_garbage(alice_bases, bob_bases, alice_bits)\n"
   ]
  },
  {
   "cell_type": "code",
   "execution_count": 66,
   "id": "reflected-switch",
   "metadata": {},
   "outputs": [
    {
     "name": "stdout",
     "output_type": "stream",
     "text": [
      "  bob_sample = [1, 0, 0, 0]\n",
      "alice_sample = [1, 0, 0, 0]\n"
     ]
    }
   ],
   "source": [
    "## Step 5: Alice and Bob Compare Sample\n",
    "\n",
    "sample_size = n_compare\n",
    "bit_selection = randint(n, size=sample_size)\n",
    "\n",
    "bob_sample = sample_bits(bob_key, bit_selection)\n",
    "print(\"  bob_sample = \" + str(bob_sample))\n",
    "alice_sample = sample_bits(alice_key, bit_selection)\n",
    "print(\"alice_sample = \"+ str([int(i) for i in alice_sample]))"
   ]
  },
  {
   "cell_type": "code",
   "execution_count": 67,
   "id": "facial-manufacturer",
   "metadata": {},
   "outputs": [
    {
     "name": "stdout",
     "output_type": "stream",
     "text": [
      "No interception! Using as one time pad.\n"
     ]
    }
   ],
   "source": [
    "## Step 6: Decide Whether to Use One-Time Pad as Private Key\n",
    "\n",
    "# If they match, make a key with the rest of the pad\n",
    "if bob_sample == alice_sample:\n",
    "    print('No interception! Using as one time pad.')\n",
    "else:\n",
    "    print('Message intercepted, try again!')"
   ]
  },
  {
   "cell_type": "code",
   "execution_count": 640,
   "id": "improved-valuation",
   "metadata": {},
   "outputs": [
    {
     "name": "stdout",
     "output_type": "stream",
     "text": [
      "Original message: \n",
      "Hopefully this works\n",
      "\n",
      "Encrypted message: \n",
      "\"oI _(q'ed_<qkFl{up=\n",
      "\n"
     ]
    }
   ],
   "source": [
    "## Step 7: Alice Encrypts and Sends Message\n",
    "\n",
    "print('Original message: ')\n",
    "print(orig_st+'\\n')\n",
    "\n",
    "# Alice encrypts message with private key\n",
    "x = encrypt_message(orig_st,key)\n",
    "print('Encrypted message: ')\n",
    "print(x+'\\n')\n",
    "\n",
    "# Alice sends encrypted message to Bob"
   ]
  },
  {
   "cell_type": "code",
   "execution_count": 641,
   "id": "sudden-spirituality",
   "metadata": {},
   "outputs": [
    {
     "name": "stdout",
     "output_type": "stream",
     "text": [
      "Decrypted message: \n",
      "Hopefully this works\n"
     ]
    }
   ],
   "source": [
    "## Step 8: Bob Decrypts and Reads Message\n",
    "\n",
    "# Bob decrypts message with private key\n",
    "y = decrypt_message(x,key)\n",
    "print('Decrypted message: ')\n",
    "print(y)"
   ]
  },
  {
   "cell_type": "markdown",
   "id": "mediterranean-cookbook",
   "metadata": {},
   "source": [
    "## 8. Discussion"
   ]
  },
  {
   "cell_type": "markdown",
   "id": "differential-buying",
   "metadata": {},
   "source": [
    "Through this report, we have investigated several strengths and drawbacks of the BB84 QKD protocol, as well as error elimination and privacy elimination protocols. The BB84 QKD protocol has been shown to be effective in detecting an eavesdropper/interceptor, which is a key weakness of classical key distribution schemes. This ability to detect an interceptor is the result of quantum principles: any attempt to measure qubits (sent from one party to another) in a basis in which that qubit is not an eigenstate will result in the qubit irreversibly changing in state. This change in state can cause the qubit receiver to measure the state incorrectly even in the qubit's originally intended basis, which can be detected by both sender and receiver upon comparing samples of their respective bits. When this error is detected in the absence of substantial noise, it becomes clear that an interceptor has been listening in on (some fraction of) the communicated qubits between the two parties.\n",
    "\n",
    "However, over noisy channels (modeled as bit flips), this detection becomes more nuanced. We have seen that the result of interception and noise can look exactly the same up to some multiplicative factor in their respective probabilities of occurrence. Thus, if noise is present, the interceptor may be able to intercept some bits of the message without being reliably detected. Indeed, we have seen that in low noise channels, it is still relatively easy to detect an interceptor with high confidence, but in high noise channels (>25%), it becomes very difficult to impossible to attribute an increase in error between the two parties' bits to an interception of those bits. Fortunately, such noisy channels are very rarely used, and an interceptor will often be a victim to some of the noise anyway, somewhat defeating the purpose of the interception.\n",
    "\n",
    "Both noise and interception can be protected against with error elimination and privacy amplification protocols introduced in section 6. These protocols involve the use of the parity operation to eliminate errors and consolidate bits to amplify privacy. Through trials on interception with and without noise, we see that the use of both protocols together is highly effective over relevant ranges of noise levels and fractions of qubits intercepted. However, we also saw a slight drawback in the error elimination protocol when most of the qubits are affected by noise (noise probability>0.5): as a result of the repeated XOR parity operation, the sender's and receiver's bits tend to become exact opposites (100% error). This shows the importance of minimizing noise in quantum systems and information channels. A fix for this error is also proposed, where both parties compare a small number of bits after the error elimination protocol and one party flips all bits if there is a high percentage of error (usually near 100%). Since this only occurs in very noisy channels anyway, this issue with the error elimination scheme is often ignored.\n",
    "\n",
    "Lastly, we dove into the use of QKD for its ultimate purpose: distribution of a one-time pad intended for use as a private key in the encryption, communication, and decryption of a message. The key thing to grasp here is that the encryption/decryption are still conducted classically after QKD is used to distribute a one-time pad generated by the sender. Examples of this type of encryption/decryption using both classical distribution and QKD are presented and discussed in Section 7, in which we see how parties using classical distribution would typically fail at detecting an interceptor, but parties using QKD can successfully detect interception more often than not (assuming acceptable noise).\n",
    "\n",
    "Of course, there are several ways in which one could expand upon the investigations presented in this report. This report focused on BB84 QKD protocol, its sensitivity to error, and how this sensitivity could be used to detect interceptors in various settings. One could expand upon this by looking into the intercepted message and how much it actually matches the keys of the two communicating parties in these various settings, as well as how privacy amplification destroys the interceptor's knowledge of the bits. Another facet to explore could be the difference in detected error depending on how much noise affects the qubits before and after the interception takes place (the theory for this has mostly been presented in this paper). Lastly, one could diversify and look into the effectiveness of other QKD protocols [2] at communicating a message, detecting interceptors, and dealing with noise.\n",
    "\n",
    "Finally, we look into some of the recent advancements in QKD systems, which revolve around new protocols, engineering improvements, and communications techniques, such as ground-to-satellite QKD.\n",
    "\n",
    "Two new protocols are High Dimensional QKD and RR-DPS-QKD. In High Dimensional QKD, a study suggests that more than 1 bit from each detected photon is possible, demonstrating an average of 6.9 bits/photon on a detector. While more bits/photon are possible, this was the limit when taking into account system security. The encoding for this protocol uses arrival times of time-energy entangled photon pairs. The RR-DPS-QKD or Round-Robin, Differential Phase-Shift Quantum Key Distribution, removes the need to monitor channel disturbances for an eavesdropper.  Instead, information about the eavesdropper is defined at some level upfront, and then the receiver measures the differential phase between any two pulses within a pulse train or pulse group sent by Alice. [6]\n",
    "\n",
    "Some of the remaining challenges for QKD involve the rate at which the private keys are generated, system cost, distance, and security.  Reducing cost of QKD systems is an area that is constantly improving. It has been determined that QKD systems can coexist in the same fiber with intense data traffic, and that room-temperature single-photon detectors are suitable for QKD - thus removing cooling and dark fiber requirements from QKD. These types of findings lead to reduced deployment cost, complexity, and power consumption. Distance will always be a factor due to loss rates in optical fibers.  Specialized repeaters such as: trusted relays, quantum repeaters, or ground-to-satellite transmission, may be necessary in most mediums to combat these losses. [6]\n",
    "\n",
    "The remaining challenge to making these systems practical is improving on system security. Two techniques found added resiliency to measurement devices and detector – the most vulnerable parts of a QKD system. The first, MDI-QKD, or Measurement device independent QKD, has shown to be highly secure – so much so, that Eve could even manufacture the “black box” measurement apparatus used on MDI-QKD. Because of its security and ability to mitigate side-channel attacks, the MDI-QKD approach can be placed in untrusted relays and shared among many QKD users. It’s transmission rate of 1 GHz corresponds to a secret key rate of 10 Mbit/s, which is sufficient for many applications. It is important to note that this QKD approach assumes that Eve is unable to interfere with Alice and Bob’s state preparation process.\n",
    "\n",
    "Another approach to system security is DDI-QKD , or Detector device independent QKD, which combines the strong security of MDI-QKD with conventional QKD efficiencies. In this protocol, the receiver uses a trusted optics network to decode information on photons received through Bell state measurements. Unfortunately, this protocol has not completely proven its ability to remove detector side-channel attacks.\n",
    "\n",
    "A large threat to QKD systems are Trojan Horse attacks. In an optical system, Eve sends “Trojan photons” to Alice’s secure module. After reaching Alice’s module, the trojan photons are encoded with the same information Alice sends to Bob, while some of Eve’s original photons are reflected back to Eve, delivering information to her. Luckily, these THAs can be mitigated by using extra components – such as a an active, phase randomizer and watchdog detector. These can be added at the expense of become a costlier, more complex system. [7]\n",
    "\n",
    "Larger QKD networks will be necessary to bring QKD into practical use. A star topological network (one with at most one intermediate node between any two users has already been demonstrated using MDI-QKD. The vision for these networks is that they will be cheap, since simple transmitters can be used by each user. The key to the network’s operation will rely on outsourcing the complicated devices to a network operator (who can even be untrusted due to the security of MDI-QKD). While QKD networks are promising, they are still limited in the distance they can cover. Advancements in trusted relays, quantum repeaters, and ground-to-satellite transmissions, will make QKD networks more of a reality."
   ]
  },
  {
   "cell_type": "markdown",
   "id": "abandoned-cologne",
   "metadata": {},
   "source": [
    "## Citations\n",
    "\n",
    "[1] The Jupyter Book Community. (n.d.). Quantum Key Distribution. Qiskit. https://qiskit.org/textbook/ch-algorithms/quantum-key-distribution.html. \n",
    "\n",
    "[2] Haitjema, M. (n.d.). A Survey of the Prominent Quantum Key Distribution Protocols. Quantum Key Distribution - QKD. https://www.cse.wustl.edu/~jain/cse571-07/ftp/quantum/#bb84. \n",
    "\n",
    "[3] Blumenthal, M. (n.d.). Encryption: Strengths and Weaknesses of Public-key Cryptography . http://www.csc.villanova.edu/~mdamian/Past/csc3990fa08/csrs2007/01-pp1-7-MattBlumenthal.pdf. \n",
    "\n",
    "[4] Kroese, D. P. (2011). Monte Carlo Methods. https://people.smp.uq.edu.au/DirkKroese/mccourse.pdf. \n",
    "\n",
    "[5] Clader, B. D. (n.d.). Quantum Cryptography. 04A_Slides.pdf. https://blackboard.jhu.edu/bbcswebdav/pid-9269103-dt-content-rid-98712252_2/courses/EN.615.781.81.SP21/Module04/04A_Slides.pdf. \n",
    "\n",
    "[6] Tian Zhong et al 2015 New J. Phys. 17 022002\n",
    "\n",
    "[7] Lucamarini, M. et al. Practical security bounds against the Trojan-horse attack in quantum key distribution. Phys. Rev. X 5, 031030. https://doi.org/10.1103/PhysRevX.5.031030 (2015)."
   ]
  }
 ],
 "metadata": {
  "kernelspec": {
   "display_name": "Python 3",
   "language": "python",
   "name": "python3"
  },
  "language_info": {
   "codemirror_mode": {
    "name": "ipython",
    "version": 3
   },
   "file_extension": ".py",
   "mimetype": "text/x-python",
   "name": "python",
   "nbconvert_exporter": "python",
   "pygments_lexer": "ipython3",
   "version": "3.7.6"
  }
 },
 "nbformat": 4,
 "nbformat_minor": 5
}
